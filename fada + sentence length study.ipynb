{
 "cells": [
  {
   "cell_type": "code",
   "execution_count": 31,
   "id": "20cb82bd-3beb-4263-8aac-7adaaf8fe653",
   "metadata": {},
   "outputs": [],
   "source": [
    "from fada.extractors import (\n",
    "    AlignmentMetric,\n",
    "    FluencyMetric,\n",
    "    GrammarMetric\n",
    ")\n",
    "from fada.utils import prepare_splits, rename_text_columns\n",
    "\n",
    "from datasets import load_dataset\n",
    "import numpy as np\n",
    "import pandas as pd"
   ]
  },
  {
   "cell_type": "code",
   "execution_count": 13,
   "id": "06d48a3a-7b2b-4b1d-951d-9b818e756d8f",
   "metadata": {},
   "outputs": [],
   "source": [
    "def annotate_word_count(dataset):\n",
    "    \"\"\"\n",
    "    Annotate the dataset with the number of words in each text entry.\n",
    "    \n",
    "    Args:\n",
    "    - dataset (Dataset): Huggingface dataset with a 'text' column.\n",
    "    \n",
    "    Returns:\n",
    "    - Dataset: Annotated dataset with a new column 'word_count'.\n",
    "    \"\"\"\n",
    "    word_counts = [len(text.split()) for text in dataset['text']]\n",
    "    \n",
    "    # Check if 'word_count' column already exists, if so, remove it\n",
    "    if 'word_count' in dataset.features:\n",
    "        dataset = dataset.remove_columns(['word_count'])\n",
    "    \n",
    "    # Add the new 'word_count' column\n",
    "    dataset = dataset.add_column('word_count', word_counts)\n",
    "    \n",
    "    return dataset"
   ]
  },
  {
   "cell_type": "code",
   "execution_count": 26,
   "id": "edfa277e-3b23-4e43-b6fb-35459dd9be5b",
   "metadata": {},
   "outputs": [],
   "source": [
    "dataset_info =[\n",
    "    (\"glue\", \"sst2\", \"distilbert-base-uncased-finetuned-sst-2-english\"),\n",
    "    (\"ag_news\", \"default\", \"textattack/bert-base-uncased-ag-news\"),\n",
    "    (\"imdb\", \"plain_text\", \"textattack/bert-base-uncased-imdb\"),\n",
    "    (\"yahoo_answers_topics\", \"yahoo_answers_topics\", \"fabriceyhc/bert-base-uncased-yahoo_answers_topics\")\n",
    "]"
   ]
  },
  {
   "cell_type": "code",
   "execution_count": 37,
   "id": "a34e8a44-e7da-4170-a719-6f1a9a5d6e68",
   "metadata": {},
   "outputs": [
    {
     "name": "stdout",
     "output_type": "stream",
     "text": [
      "Using distilbert-base-uncased-finetuned-sst-2-english to support cleanlab datalabel issues.\n"
     ]
    },
    {
     "name": "stderr",
     "output_type": "stream",
     "text": [
      "/home/fabricehc/miniconda3/envs/fada/lib/python3.8/site-packages/transformers/pipelines/text_classification.py:105: UserWarning: `return_all_scores` is now deprecated,  if want a similar functionality use `top_k=None` instead of `return_all_scores=True` or `top_k=1` instead of `return_all_scores=False`.\n",
      "  warnings.warn(\n"
     ]
    },
    {
     "data": {
      "application/vnd.jupyter.widget-view+json": {
       "model_id": "fc47eef014c0448a949159ce610fa3b0",
       "version_major": 2,
       "version_minor": 0
      },
      "text/plain": [
       "Map:   0%|          | 0/1000 [00:00<?, ? examples/s]"
      ]
     },
     "metadata": {},
     "output_type": "display_data"
    },
    {
     "name": "stderr",
     "output_type": "stream",
     "text": [
      "Using pad_token, but it is not set yet.\n"
     ]
    },
    {
     "data": {
      "application/vnd.jupyter.widget-view+json": {
       "model_id": "7d7dc2fd767d4853a21daa9b4c3b06b1",
       "version_major": 2,
       "version_minor": 0
      },
      "text/plain": [
       "  0%|          | 0/63 [00:00<?, ?it/s]"
      ]
     },
     "metadata": {},
     "output_type": "display_data"
    },
    {
     "name": "stdout",
     "output_type": "stream",
     "text": [
      "Using textattack/bert-base-uncased-ag-news to support cleanlab datalabel issues.\n"
     ]
    },
    {
     "data": {
      "application/vnd.jupyter.widget-view+json": {
       "model_id": "ca17d70c05614c9b81ac21015a1ee95b",
       "version_major": 2,
       "version_minor": 0
      },
      "text/plain": [
       "Flattening the indices:   0%|          | 0/1000 [00:00<?, ? examples/s]"
      ]
     },
     "metadata": {},
     "output_type": "display_data"
    },
    {
     "data": {
      "application/vnd.jupyter.widget-view+json": {
       "model_id": "5c685f994fd04ed8a071c6c1bbd4cab4",
       "version_major": 2,
       "version_minor": 0
      },
      "text/plain": [
       "Map:   0%|          | 0/1000 [00:00<?, ? examples/s]"
      ]
     },
     "metadata": {},
     "output_type": "display_data"
    },
    {
     "name": "stderr",
     "output_type": "stream",
     "text": [
      "Using pad_token, but it is not set yet.\n"
     ]
    },
    {
     "data": {
      "application/vnd.jupyter.widget-view+json": {
       "model_id": "8ce3d645327d4ff587a815d7d0b5f459",
       "version_major": 2,
       "version_minor": 0
      },
      "text/plain": [
       "  0%|          | 0/63 [00:00<?, ?it/s]"
      ]
     },
     "metadata": {},
     "output_type": "display_data"
    },
    {
     "name": "stdout",
     "output_type": "stream",
     "text": [
      "Using textattack/bert-base-uncased-imdb to support cleanlab datalabel issues.\n"
     ]
    },
    {
     "data": {
      "application/vnd.jupyter.widget-view+json": {
       "model_id": "8941578e0844402c8408c2f2bd787627",
       "version_major": 2,
       "version_minor": 0
      },
      "text/plain": [
       "Flattening the indices:   0%|          | 0/1000 [00:00<?, ? examples/s]"
      ]
     },
     "metadata": {},
     "output_type": "display_data"
    },
    {
     "data": {
      "application/vnd.jupyter.widget-view+json": {
       "model_id": "230267943a8849e8911c3d91ea0896d7",
       "version_major": 2,
       "version_minor": 0
      },
      "text/plain": [
       "Map:   0%|          | 0/1000 [00:00<?, ? examples/s]"
      ]
     },
     "metadata": {},
     "output_type": "display_data"
    },
    {
     "name": "stderr",
     "output_type": "stream",
     "text": [
      "Using pad_token, but it is not set yet.\n"
     ]
    },
    {
     "data": {
      "application/vnd.jupyter.widget-view+json": {
       "model_id": "dc57d91eb7474327a133bb9e26e76444",
       "version_major": 2,
       "version_minor": 0
      },
      "text/plain": [
       "  0%|          | 0/63 [00:00<?, ?it/s]"
      ]
     },
     "metadata": {},
     "output_type": "display_data"
    },
    {
     "name": "stdout",
     "output_type": "stream",
     "text": [
      "Using fabriceyhc/bert-base-uncased-yahoo_answers_topics to support cleanlab datalabel issues.\n"
     ]
    },
    {
     "data": {
      "application/vnd.jupyter.widget-view+json": {
       "model_id": "42957929b5fc44dfa43d6b61ea1c1cfd",
       "version_major": 2,
       "version_minor": 0
      },
      "text/plain": [
       "Map:   0%|          | 0/1000 [00:00<?, ? examples/s]"
      ]
     },
     "metadata": {},
     "output_type": "display_data"
    },
    {
     "name": "stderr",
     "output_type": "stream",
     "text": [
      "Using pad_token, but it is not set yet.\n"
     ]
    },
    {
     "data": {
      "application/vnd.jupyter.widget-view+json": {
       "model_id": "b840a1d5f540490ca7ab285992fc8b94",
       "version_major": 2,
       "version_minor": 0
      },
      "text/plain": [
       "  0%|          | 0/63 [00:00<?, ?it/s]"
      ]
     },
     "metadata": {},
     "output_type": "display_data"
    }
   ],
   "source": [
    "n = 1000\n",
    "\n",
    "results = []\n",
    "for builder_name, config_name, model_id in dataset_info:\n",
    "\n",
    "    # init metrics\n",
    "    a_metric = AlignmentMetric(\n",
    "        builder_name=builder_name, \n",
    "        config_name=config_name,\n",
    "        model_id=model_id)\n",
    "    f_metric = FluencyMetric()\n",
    "    g_metric = GrammarMetric()\n",
    "\n",
    "    # init dataset\n",
    "    raw_datasets = load_dataset(builder_name, config_name)\n",
    "    raw_datasets = prepare_splits(raw_datasets)\n",
    "    raw_datasets = rename_text_columns(raw_datasets)\n",
    "    dataset = raw_datasets[\"train\"].select(range(n))\n",
    "\n",
    "    # annotate metrics\n",
    "    dataset, a_scores = a_metric.evaluate(dataset, annotate_dataset=True)\n",
    "    dataset, f_scores = f_metric.evaluate(dataset, annotate_dataset=True)\n",
    "    dataset, g_scores = g_metric.evaluate(dataset, annotate_dataset=True)\n",
    "    dataset = annotate_word_count(dataset)\n",
    "\n",
    "    # calculate correlations\n",
    "    a_word_corr = np.corrcoef(dataset['alignment_score'], dataset['word_count'])[0, 1]\n",
    "    f_word_corr = np.corrcoef(dataset['fluency_score'], dataset['word_count'])[0, 1]\n",
    "    g_word_corr = np.corrcoef(dataset['grammar_score'], dataset['word_count'])[0, 1]\n",
    "\n",
    "    results.append({\n",
    "        \"builder_name\": builder_name, \n",
    "        \"config_name\": config_name, \n",
    "        \"a_word_corr\": a_word_corr, \n",
    "        \"f_word_corr\": f_word_corr, \n",
    "        \"g_word_corr\": g_word_corr\n",
    "    })"
   ]
  },
  {
   "cell_type": "code",
   "execution_count": 38,
   "id": "93607577-b2e0-401e-8f32-b3140b223248",
   "metadata": {},
   "outputs": [],
   "source": [
    "df = pd.DataFrame(results)"
   ]
  },
  {
   "cell_type": "code",
   "execution_count": 39,
   "id": "4914155f-1e09-45c1-baa7-da0b0873d9f9",
   "metadata": {},
   "outputs": [
    {
     "name": "stderr",
     "output_type": "stream",
     "text": [
      "/tmp/ipykernel_1048984/3698961737.py:1: FutureWarning: Dropping of nuisance columns in DataFrame reductions (with 'numeric_only=None') is deprecated; in a future version this will raise TypeError.  Select only valid columns before calling the reduction.\n",
      "  df.mean()\n"
     ]
    },
    {
     "data": {
      "text/plain": [
       "a_word_corr    0.019538\n",
       "f_word_corr   -0.233489\n",
       "g_word_corr    0.562229\n",
       "dtype: float64"
      ]
     },
     "execution_count": 39,
     "metadata": {},
     "output_type": "execute_result"
    }
   ],
   "source": [
    "df.mean()"
   ]
  },
  {
   "cell_type": "code",
   "execution_count": 40,
   "id": "5cd73fc7-3720-4ee9-897d-0fad7342e45a",
   "metadata": {},
   "outputs": [],
   "source": [
    "from datasets import load_from_disk"
   ]
  },
  {
   "cell_type": "code",
   "execution_count": 44,
   "id": "5cfd5709-9496-4b8e-9597-707b16ba4e12",
   "metadata": {},
   "outputs": [],
   "source": [
    "org_dataset = load_from_disk(\"./fada/fadata/datasets/glue.sst2.original.10\")\n",
    "aug_dataset = load_from_disk(\"./fada/fadata/datasets/glue.sst2.taa.10\")"
   ]
  },
  {
   "cell_type": "code",
   "execution_count": 46,
   "id": "664006e6-dc9d-4c7a-8986-33ee7e8bd0c7",
   "metadata": {},
   "outputs": [
    {
     "name": "stdout",
     "output_type": "stream",
     "text": [
      "{'text': \"lilo & stitch '' reach the emotion or timelessness of disney 's great past , or even that of more recent successes such as `` mulan '' or `` tarzan \", 'label': 1, 'idx': 32752}\n",
      "{'text': 'millions of dollars heaped upon a project of such vast proportions need to reap more rewards than spiffy bluescreen technique and stylish weaponry . ', 'label': 0, 'idx': 20825}\n",
      "{'text': 'the script was reportedly rewritten a dozen times -- ', 'label': 0, 'idx': 64717}\n",
      "{'text': \"with a sour taste in one 's mouth , and little else \", 'label': 0, 'idx': 43797}\n",
      "{'text': 'its exquisite acting , ', 'label': 1, 'idx': 35488}\n",
      "{'text': 'a very moving and revelatory footnote ', 'label': 1, 'idx': 1801}\n",
      "{'text': 'clichés , ', 'label': 0, 'idx': 37225}\n",
      "{'text': \"by movies ' end you 'll swear you are wet in some places and feel sand creeping in others \", 'label': 1, 'idx': 3008}\n",
      "{'text': 'wit or innovation ', 'label': 1, 'idx': 48650}\n",
      "{'text': 'barely realize your mind is being blown . ', 'label': 1, 'idx': 30122}\n",
      "{'text': 'deviant ', 'label': 0, 'idx': 48388}\n",
      "{'text': \"notwithstanding my problem with the movie 's final half hour , i 'm going to recommend secretary , based on the wonderful acting clinic put on by spader and gyllenhaal \", 'label': 1, 'idx': 15419}\n",
      "{'text': 'to squeeze the action and our emotions into the all-too-familiar dramatic arc of the holocaust escape story ', 'label': 1, 'idx': 16245}\n",
      "{'text': 'encompassing ', 'label': 1, 'idx': 24502}\n",
      "{'text': 'damn ', 'label': 0, 'idx': 12971}\n",
      "{'text': \"... the good and different idea ( of middle-aged romance ) is not handled well and , except for the fine star performances , there is little else to recommend `` never again . '' \", 'label': 0, 'idx': 52506}\n",
      "{'text': 'the value and respect ', 'label': 1, 'idx': 19397}\n",
      "{'text': 'his oppressive , right-wing , propriety-obsessed family ', 'label': 0, 'idx': 32479}\n",
      "{'text': 'uneventful ', 'label': 0, 'idx': 3062}\n",
      "{'text': 'the story is bogus and ', 'label': 0, 'idx': 238}\n"
     ]
    }
   ],
   "source": [
    "for row in org_dataset:\n",
    "    print(row)"
   ]
  },
  {
   "cell_type": "code",
   "execution_count": 47,
   "id": "ae48c038-e129-48cb-94d5-55f18416c9e1",
   "metadata": {},
   "outputs": [
    {
     "name": "stdout",
     "output_type": "stream",
     "text": [
      "{'text': \"lilo & stitch '' reach the emotion or timelessness of disney 's great past , or even that of more recent successes such as `` mulan '' or `` tarzan \", 'label': 1}\n",
      "{'text': 'millions of dollars heaped upon a project of such vast proportions need to reap more rewards than spiffy bluescreen technique and stylish weaponry . ', 'label': 0}\n",
      "{'text': 'the script was reportedly rewritten a dozen times -- ', 'label': 0}\n",
      "{'text': \"with a sour taste in one 's mouth , and little else \", 'label': 0}\n",
      "{'text': 'its exquisite acting , ', 'label': 1}\n",
      "{'text': 'a very moving and revelatory footnote ', 'label': 1}\n",
      "{'text': 'clichés , ', 'label': 0}\n",
      "{'text': \"by movies ' end you 'll swear you are wet in some places and feel sand creeping in others \", 'label': 1}\n",
      "{'text': 'wit or innovation ', 'label': 1}\n",
      "{'text': 'barely realize your mind is being blown . ', 'label': 1}\n",
      "{'text': 'deviant ', 'label': 0}\n",
      "{'text': \"notwithstanding my problem with the movie 's final half hour , i 'm going to recommend secretary , based on the wonderful acting clinic put on by spader and gyllenhaal \", 'label': 1}\n",
      "{'text': 'to squeeze the action and our emotions into the all-too-familiar dramatic arc of the holocaust escape story ', 'label': 1}\n",
      "{'text': 'encompassing ', 'label': 1}\n",
      "{'text': 'damn ', 'label': 0}\n",
      "{'text': \"... the good and different idea ( of middle-aged romance ) is not handled well and , except for the fine star performances , there is little else to recommend `` never again . '' \", 'label': 0}\n",
      "{'text': 'the value and respect ', 'label': 1}\n",
      "{'text': 'his oppressive , right-wing , propriety-obsessed family ', 'label': 0}\n",
      "{'text': 'uneventful ', 'label': 0}\n",
      "{'text': 'the story is bogus and ', 'label': 0}\n",
      "{'text': \"lilo & stitch '' reach the emotion or timelessness of disney 's great past , or even that of more recent successes such as `` mulan '' or `` tarzan \", 'label': 1}\n",
      "{'text': \"lilo & stitch ' ' reach memorial emotion Kelly timelessness reaction disney ' s refer past, Schlesinger aircraft Hoffman product recent successes trying somewhere ` ` mulan ' ' lessons ` ` tarzan\", 'label': 1}\n",
      "{'text': \"lilo & to stitch ' ' reach childhood ever the hire emotion Watch impression or became timelessness was of variant disney ' becomes s great past, stud or even that rhythm of more take recent successes he eats such star as ` ` fabulous mulan ' ' somewhere find or ` ` tarzan\", 'label': 1}\n",
      "{'text': 'millions what dollars heaped upon a project of it vast proportions Cure the reap Robot rewards fate spiffy bluescreen technique engaging stylish weaponry.', 'label': 0}\n",
      "{'text': 'millions high dollars heaped upon a project sparkle script vast proportions children free reap held rewards You spiffy bluescreen technique college stylish weaponry.', 'label': 0}\n",
      "{'text': 'Classic millions dollars heaped upon a project this Liye vast proportions cry to reap spiffy dies rewards scope bluescreen technique and stylish weaponry.', 'label': 0}\n",
      "{'text': 'the handwriting was reportedly rewritten a xii times - -', 'label': 0}\n",
      "{'text': 'the script reportedly was rewritten card a dozen times - -', 'label': 0}\n",
      "{'text': 'the script was reportedly disaster rewritten a dozen times - -', 'label': 0}\n",
      "{'text': \"with what a refer sour somewhere taste in overplayed one ' s mouth, and Watch little Later else\", 'label': 0}\n",
      "{'text': \"with a sour taste one ' s mouth, and little else\", 'label': 0}\n",
      "{'text': \"with a morose taste in one ' s oral cavity, and fiddling else\", 'label': 0}\n",
      "{'text': 'its,', 'label': 1}\n",
      "{'text': 'patient exquisite acting,', 'label': 1}\n",
      "{'text': 'its exquisite post acting,', 'label': 1}\n",
      "{'text': 'a very moving and revelatory footnote ', 'label': 1}\n",
      "{'text': 'a centered moving revelatory and footnote', 'label': 1}\n",
      "{'text': 'a very moving and revelatory footnote ', 'label': 1}\n",
      "{'text': 'Films clichés,', 'label': 0}\n",
      "{'text': 'Clarissa clichés,', 'label': 0}\n",
      "{'text': 'clichés , ', 'label': 0}\n",
      "{'text': \"by movies ' end you ' ll swear you Witch are wet in some places and feel ever sand creeping in others\", 'label': 1}\n",
      "{'text': \"sparkle by ' end That ' ll swear particularly are wet in dingaling places and take sand creeping show Roach\", 'label': 1}\n",
      "{'text': \"by movies ' cry Most ' Kate swear Josh are wet documentary Emulating places and that sand creeping engaging others\", 'label': 1}\n",
      "{'text': 'wit innovation', 'label': 1}\n",
      "{'text': 'innovation', 'label': 1}\n",
      "{'text': 'wit Kim innovation', 'label': 1}\n",
      "{'text': 'barely realize your is being blown.', 'label': 1}\n",
      "{'text': 'barely realize your what mind is being blown.', 'label': 1}\n",
      "{'text': 'barely realize bravado your mind is being blown.', 'label': 1}\n",
      "{'text': 'deviant ', 'label': 0}\n",
      "{'text': 'deviant', 'label': 0}\n",
      "{'text': 'deviant', 'label': 0}\n",
      "{'text': \"notwithstanding my problem the with movie s ' final hour half, bible i going ' m to recommend, secretary based on the wonderful acting clinic put on spader by gyllenhaal and\", 'label': 1}\n",
      "{'text': \"notwithstanding my problem with the movie ' s final half hour, i ' m going to recommend secretary, based on the wonderful acting clinic liars put on by spader and gyllenhaal\", 'label': 1}\n",
      "{'text': \"notwithstanding my problem with the movie ' s final half hour, i ' m going to recommend secretary, based on the wonderful acting clinic on by spader and gyllenhaal\", 'label': 1}\n",
      "{'text': 'Squeeze to action the and emotions our the into all - too - familiar dramatic arc of the holocaust escape story', 'label': 1}\n",
      "{'text': 'to squeeze stud the action and our emotions into the all - too - familiar rhythm dramatic arc of the holocaust escape story', 'label': 1}\n",
      "{'text': 'to squeeze the action and our emotions into all - too - familiar dramatic arc of the holocaust escape story', 'label': 1}\n",
      "{'text': 'encompassing', 'label': 1}\n",
      "{'text': 'encompassing', 'label': 1}\n",
      "{'text': 'encompassing', 'label': 1}\n",
      "{'text': 'damn', 'label': 0}\n",
      "{'text': 'damn', 'label': 0}\n",
      "{'text': 'damn ', 'label': 0}\n",
      "{'text': \".. . the good and different idea (of middle aged - romance is) not and handled well, for except the fine star performances, is there else little to recommend ` ` again never. ' '\", 'label': 0}\n",
      "{'text': \".. the. good different and idea (of middle - aged romance) is handled not well and, for except the star performances fine, there is little else to recommend ` ` never again. ' '\", 'label': 0}\n",
      "{'text': \".. . the thrown good and casts different perspective idea (list of demands middle - aged garnered romance) plans is not handled well MacArthur and, except successfully for Philippine the need fine star performances, there is little else Cure to camcorder recommend ` ` doorstep never Super again. ' '\", 'label': 0}\n",
      "{'text': 'the value and respect ', 'label': 1}\n",
      "{'text': 'the value and respect ', 'label': 1}\n",
      "{'text': 'the memorial and respect', 'label': 1}\n",
      "{'text': 'needed oppressive, wanted - wing, propriety - obsessed', 'label': 0}\n",
      "{'text': 'his oppressive, right - want wing, propriety - obsessed family', 'label': 0}\n",
      "{'text': 'his oppressive, right - wing, propriety - obsessed sexual', 'label': 0}\n",
      "{'text': 'Uneventful secretaries', 'label': 0}\n",
      "{'text': 'uneventful', 'label': 0}\n",
      "{'text': 'uneventful', 'label': 0}\n",
      "{'text': 'the story is bogus and ', 'label': 0}\n",
      "{'text': 'the casts upends story is impression bogus and', 'label': 0}\n",
      "{'text': 'story is and', 'label': 0}\n"
     ]
    }
   ],
   "source": [
    "for row in aug_dataset:\n",
    "    print(row)"
   ]
  },
  {
   "cell_type": "code",
   "execution_count": null,
   "id": "1ad5bf4a-d689-4c38-9e9f-d67fce0ce4a0",
   "metadata": {},
   "outputs": [],
   "source": []
  }
 ],
 "metadata": {
  "kernelspec": {
   "display_name": "Python 3 (ipykernel)",
   "language": "python",
   "name": "python3"
  },
  "language_info": {
   "codemirror_mode": {
    "name": "ipython",
    "version": 3
   },
   "file_extension": ".py",
   "mimetype": "text/x-python",
   "name": "python",
   "nbconvert_exporter": "python",
   "pygments_lexer": "ipython3",
   "version": "3.8.17"
  }
 },
 "nbformat": 4,
 "nbformat_minor": 5
}

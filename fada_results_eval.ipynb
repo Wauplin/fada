{
 "cells": [
  {
   "cell_type": "code",
   "execution_count": 182,
   "id": "74253bbd",
   "metadata": {},
   "outputs": [],
   "source": [
    "import pandas as pd"
   ]
  },
  {
   "cell_type": "code",
   "execution_count": 183,
   "id": "cd56d0d2",
   "metadata": {},
   "outputs": [],
   "source": [
    "def extract_metadata(model_paths):\n",
    "    metadata = []\n",
    "    for model_path in model_paths:\n",
    "        md = {}\n",
    "        name_parts = model_path.split(\".\")\n",
    "        if \"annotated\" in name_parts:\n",
    "            metadata.append({})\n",
    "            continue\n",
    "        md[\"base_model\"] = name_parts[1].split(\"/\")[-1]\n",
    "        md[\"base_technique\"] = name_parts[4]\n",
    "        md[\"num_per_class\"] = name_parts[5]\n",
    "        technique = f\"{md['base_technique']}.{md['num_per_class']}\"\n",
    "        if len(name_parts) > 6:\n",
    "            md[\"fada_a\"] = float(f\"{name_parts[7]}.{name_parts[8]}\")\n",
    "            md[\"fada_f\"] = float(f\"{name_parts[10]}.{name_parts[11]}\")\n",
    "            md[\"fada_g\"] = float(f\"{name_parts[13]}.{name_parts[14]}\")\n",
    "            technique += f\".a.{md['fada_a']}.f.{md['fada_f']}.g.{md['fada_g']}\"\n",
    "        md[\"technique\"] = technique\n",
    "        metadata.append(md)\n",
    "    return metadata"
   ]
  },
  {
   "cell_type": "code",
   "execution_count": 184,
   "id": "0b1c989e",
   "metadata": {},
   "outputs": [],
   "source": [
    "index_order = [\n",
    "    ('glue.sst2.original.10', '10'),\n",
    "    ('glue.sst2.uniform.10', '10'),\n",
    "    ('glue.sst2.fada.10.a.1.0.f.0.0.g.0.0', '10'),\n",
    "    ('glue.sst2.fada.10.a.0.9.f.0.05.g.0.05', '10'),\n",
    "    ('glue.sst2.fada.10.a.0.8.f.0.1.g.0.1', '10'),\n",
    "    ('glue.sst2.fada.10.a.0.7.f.0.15.g.0.15', '10'),\n",
    "    ('glue.sst2.fada.10.a.0.6.f.0.2.g.0.2', '10'),\n",
    "    ('glue.sst2.fada.10.a.0.5.f.0.25.g.0.25', '10'),\n",
    "    ('glue.sst2.fada.10.a.0.4.f.0.3.g.0.3', '10'),\n",
    "    ('glue.sst2.fada.10.a.0.3.f.0.35.g.0.35', '10'),\n",
    "    ('glue.sst2.fada.10.a.0.2.f.0.4.g.0.4', '10'),\n",
    "    ('glue.sst2.fada.10.a.0.1.f.0.45.g.0.45', '10'),\n",
    "    ('glue.sst2.original.200', '200'),\n",
    "    ('glue.sst2.uniform.200', '200'),\n",
    "    ('glue.sst2.fada.200.a.1.0.f.0.0.g.0.0', '200'),\n",
    "    ('glue.sst2.fada.200.a.0.9.f.0.05.g.0.05', '200'),\n",
    "    ('glue.sst2.fada.200.a.0.8.f.0.1.g.0.1', '200'),\n",
    "    ('glue.sst2.fada.200.a.0.7.f.0.15.g.0.15', '200'),\n",
    "    ('glue.sst2.fada.200.a.0.6.f.0.2.g.0.2', '200'),\n",
    "    ('glue.sst2.fada.200.a.0.5.f.0.25.g.0.25', '200'),\n",
    "    ('glue.sst2.fada.200.a.0.4.f.0.3.g.0.3', '200'),\n",
    "    ('glue.sst2.fada.200.a.0.3.f.0.35.g.0.35', '200'),\n",
    "    ('glue.sst2.fada.200.a.0.2.f.0.4.g.0.4', '200'),\n",
    "    ('glue.sst2.fada.200.a.0.1.f.0.45.g.0.45', '200'),\n",
    "    ('glue.sst2.uniform.2500', '2500'),\n",
    "    ('glue.sst2.original.2500', '2500'),\n",
    "    ('glue.sst2.fada.2500.a.1.0.f.0.0.g.0.0', '2500'),\n",
    "    ('glue.sst2.fada.2500.a.0.9.f.0.05.g.0.05', '2500'),\n",
    "    ('glue.sst2.fada.2500.a.0.8.f.0.1.g.0.1', '2500'),\n",
    "    ('glue.sst2.fada.2500.a.0.7.f.0.15.g.0.15', '2500'),\n",
    "    ('glue.sst2.fada.2500.a.0.6.f.0.2.g.0.2', '2500'),\n",
    "    ('glue.sst2.fada.2500.a.0.5.f.0.25.g.0.25', '2500'),\n",
    "    ('glue.sst2.fada.2500.a.0.4.f.0.3.g.0.3', '2500'),\n",
    "    ('glue.sst2.fada.2500.a.0.3.f.0.35.g.0.35', '2500'),\n",
    "    ('glue.sst2.fada.2500.a.0.2.f.0.4.g.0.4', '2500'),\n",
    "    ('glue.sst2.fada.2500.a.0.1.f.0.45.g.0.45', '2500')\n",
    "]"
   ]
  },
  {
   "cell_type": "code",
   "execution_count": 185,
   "id": "9ea99833",
   "metadata": {},
   "outputs": [],
   "source": [
    "train_results = pd.read_csv(\"./eval/results/glue.sst2.training.csv\")\n",
    "train_md = extract_metadata(train_results[\"trained_model\"])\n",
    "train_results = pd.concat([train_results, pd.DataFrame(train_md)], axis=1)\n",
    "train_results = train_results.loc[:,~train_results.columns.duplicated()]\n",
    "train_final = train_results.groupby(by=[\"technique\", \"base_model\", \"num_per_class\"])\\\n",
    "    .mean()\\\n",
    "    .reset_index()\\\n",
    "    .pivot_table(\"eval_f1\", [\"technique\", \"num_per_class\"], \"base_model\")\\\n",
    "    .sort_values([\"num_per_class\", \"technique\"])\n",
    "train_final = train_final.reindex(index_order)\n",
    "\n",
    "robustness_results = pd.read_csv(\"./eval/results/glue.sst2.robustness.csv\")\n",
    "robustness_md = extract_metadata(robustness_results[\"fine_tuned_model_name\"])\n",
    "robustness_results = pd.concat([robustness_results, pd.DataFrame(robustness_md)], axis=1)\n",
    "robustness_results = robustness_results.loc[:,~robustness_results.columns.duplicated()]\n",
    "\n",
    "target_cols = [c for c in robustness_results.columns if \"_f1\" in c or \"attack_success_\" in c]\n",
    "robustness_final = robustness_results.groupby(by=[\"technique\", \"base_model\", \"num_per_class\"])\\\n",
    "    .mean()[target_cols]\\\n",
    "    .sort_values([\"num_per_class\", \"technique\"]).T"
   ]
  },
  {
   "cell_type": "code",
   "execution_count": 136,
   "id": "394ed15a",
   "metadata": {},
   "outputs": [],
   "source": [
    "robustness_final.to_clipboard(excel=True)"
   ]
  },
  {
   "cell_type": "code",
   "execution_count": 187,
   "id": "ea95c1df",
   "metadata": {},
   "outputs": [],
   "source": [
    "train_final.to_clipboard(excel=True)"
   ]
  },
  {
   "cell_type": "code",
   "execution_count": null,
   "id": "7f7e1384",
   "metadata": {},
   "outputs": [],
   "source": []
  }
 ],
 "metadata": {
  "kernelspec": {
   "display_name": "Python 3 (ipykernel)",
   "language": "python",
   "name": "python3"
  },
  "language_info": {
   "codemirror_mode": {
    "name": "ipython",
    "version": 3
   },
   "file_extension": ".py",
   "mimetype": "text/x-python",
   "name": "python",
   "nbconvert_exporter": "python",
   "pygments_lexer": "ipython3",
   "version": "3.9.7"
  }
 },
 "nbformat": 4,
 "nbformat_minor": 5
}

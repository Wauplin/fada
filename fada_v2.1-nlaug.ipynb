{
 "cells": [
  {
   "cell_type": "markdown",
   "id": "a1e616ab",
   "metadata": {},
   "source": [
    "# Feature-Aware Data Augmentation\n",
    "\n",
    "Augmentation policies to consider:\n",
    "- Simple policy randomly sampling of n transforms \n",
    "- Constrained sampling policy with a blacklist of transforms to avoid \n",
    "- Feature-aware augmentation policy where transforms are picked based on their (transform, feature) behavior"
   ]
  },
  {
   "cell_type": "code",
   "execution_count": 1,
   "id": "be0cdcb4",
   "metadata": {},
   "outputs": [],
   "source": [
    "# data\n",
    "import os\n",
    "import pickle\n",
    "import numpy as np\n",
    "from tqdm.notebook import tqdm\n",
    "from datasets import load_dataset, load_from_disk\n",
    "from datasets.utils.logging import disable_progress_bar\n",
    "\n",
    "# amrs\n",
    "import amrlib\n",
    "import penman\n",
    "\n",
    "# transform\n",
    "# import sibyl\n",
    "import torch\n",
    "import inspect\n",
    "import random\n",
    "from functools import partial\n",
    "\n",
    "# eval pipeline\n",
    "import pandas as pd\n",
    "from transformers import pipeline\n",
    "from huggingface_hub import HfApi, ModelFilter\n",
    "from sklearn.metrics import accuracy_score, precision_recall_fscore_support\n",
    "from scipy.special import softmax\n",
    "\n",
    "# train pipeline\n",
    "import shutil\n",
    "from transformers import (\n",
    "    AutoModelForSequenceClassification, \n",
    "    AutoTokenizer, \n",
    "    Trainer, \n",
    "    TrainingArguments, \n",
    "    EarlyStoppingCallback\n",
    ")\n",
    "\n",
    "# cleanlab pipeline\n",
    "from cleanlab.filter import find_label_issues\n",
    "\n",
    "# visualization\n",
    "import seaborn as sns\n",
    "import matplotlib.pyplot as plt"
   ]
  },
  {
   "cell_type": "code",
   "execution_count": 3,
   "id": "8870c2a5",
   "metadata": {},
   "outputs": [
    {
     "data": {
      "application/vnd.jupyter.widget-view+json": {
       "model_id": "e81e96dbf36e4698a392ec3a445ed097",
       "version_major": 2,
       "version_minor": 0
      },
      "text/plain": [
       "Downloading (…)lve/main/config.json:   0%|          | 0.00/665 [00:00<?, ?B/s]"
      ]
     },
     "metadata": {},
     "output_type": "display_data"
    },
    {
     "name": "stderr",
     "output_type": "stream",
     "text": [
      "C:\\Users\\fabri\\anaconda3\\envs\\fada\\lib\\site-packages\\huggingface_hub\\file_download.py:129: UserWarning: `huggingface_hub` cache-system uses symlinks by default to efficiently store duplicated files but your machine does not support them in C:\\Users\\fabri\\.cache\\huggingface\\hub. Caching files will still work but in a degraded version that might require more space on your disk. This warning can be disabled by setting the `HF_HUB_DISABLE_SYMLINKS_WARNING` environment variable. For more details, see https://huggingface.co/docs/huggingface_hub/how-to-cache#limitations.\n",
      "To support symlinks on Windows, you either need to activate Developer Mode or to run Python as an administrator. In order to see activate developer mode, see this article: https://docs.microsoft.com/en-us/windows/apps/get-started/enable-your-device-for-development\n",
      "  warnings.warn(message)\n"
     ]
    },
    {
     "data": {
      "application/vnd.jupyter.widget-view+json": {
       "model_id": "fe1ed426f23943749520ba28f11dd993",
       "version_major": 2,
       "version_minor": 0
      },
      "text/plain": [
       "Downloading (…)\"pytorch_model.bin\";:   0%|          | 0.00/548M [00:00<?, ?B/s]"
      ]
     },
     "metadata": {},
     "output_type": "display_data"
    },
    {
     "data": {
      "application/vnd.jupyter.widget-view+json": {
       "model_id": "ab560d490572491ca9b57054312437c0",
       "version_major": 2,
       "version_minor": 0
      },
      "text/plain": [
       "Downloading (…)neration_config.json:   0%|          | 0.00/124 [00:00<?, ?B/s]"
      ]
     },
     "metadata": {},
     "output_type": "display_data"
    },
    {
     "data": {
      "application/vnd.jupyter.widget-view+json": {
       "model_id": "58a8c379f26045f78140ed9164b100bb",
       "version_major": 2,
       "version_minor": 0
      },
      "text/plain": [
       "Downloading (…)olve/main/vocab.json:   0%|          | 0.00/1.04M [00:00<?, ?B/s]"
      ]
     },
     "metadata": {},
     "output_type": "display_data"
    },
    {
     "data": {
      "application/vnd.jupyter.widget-view+json": {
       "model_id": "fa51e361c82e4b51bd0a40ccf3e42dde",
       "version_major": 2,
       "version_minor": 0
      },
      "text/plain": [
       "Downloading (…)olve/main/merges.txt:   0%|          | 0.00/456k [00:00<?, ?B/s]"
      ]
     },
     "metadata": {},
     "output_type": "display_data"
    },
    {
     "data": {
      "application/vnd.jupyter.widget-view+json": {
       "model_id": "91eac35a864d4f93832764bb06d59dd8",
       "version_major": 2,
       "version_minor": 0
      },
      "text/plain": [
       "Downloading (…)/main/tokenizer.json:   0%|          | 0.00/1.36M [00:00<?, ?B/s]"
      ]
     },
     "metadata": {},
     "output_type": "display_data"
    }
   ],
   "source": [
    "from nlaugmenter.transformations.emojify                                   import EmojifyTransformation\n",
    "from nlaugmenter.transformations.synonym_insertion                         import SynonymInsertion\n",
    "from nlaugmenter.transformations.back_translation                          import BackTranslation\n",
    "from nlaugmenter.transformations.noun_compound_paraphraser                 import NounCompoundParaphraser\n",
    "from nlaugmenter.transformations.diacritic_removal                         import DiacriticRemoval\n",
    "from nlaugmenter.transformations.azerty_qwerty_chars_swap                  import AzertyQwertyCharsSwap\n",
    "from nlaugmenter.transformations.add_hashtags                              import HashtagGeneration\n",
    "from nlaugmenter.transformations.replace_spelling                          import SpellingTransformation\n",
    "from nlaugmenter.transformations.token_replacement                         import TokenReplacement\n",
    "from nlaugmenter.transformations.auxiliary_negation_removal                import SentenceAuxiliaryNegationRemoval\n",
    "from nlaugmenter.transformations.use_acronyms                              import UseAcronyms\n",
    "from nlaugmenter.transformations.yoda_transform                            import YodaPerturbation\n",
    "from nlaugmenter.transformations.factive_verb_transformation               import FactiveVerbTransformation\n",
    "from nlaugmenter.transformations.protaugment_diverse_paraphrase            import ProtaugmentDiverseParaphrase\n",
    "from nlaugmenter.transformations.replace_financial_amounts                 import ReplaceFinancialAmount\n",
    "from nlaugmenter.transformations.americanize_britishize_english            import AmericanizeBritishizeEnglish\n",
    "from nlaugmenter.transformations.punctuation                               import PunctuationWithRules\n",
    "from nlaugmenter.transformations.urban_dict_swap                           import UrbanThesaurusSwap\n",
    "from nlaugmenter.transformations.filler_word_augmentation                  import FillerWordAugmentation\n",
    "from nlaugmenter.transformations.synonym_substitution                      import SynonymSubstitution\n",
    "from nlaugmenter.transformations.style_paraphraser                         import StyleTransferParaphraser\n",
    "from nlaugmenter.transformations.random_upper_transformation               import RandomUpperPerturbation\n",
    "from nlaugmenter.transformations.weekday_month_abbreviation                import WeekdayMonthAbbreviation\n",
    "from nlaugmenter.transformations.city_names_transformation                 import CityNamesTransformation\n",
    "from nlaugmenter.transformations.sentence_additions                        import SentenceAdditions\n",
    "from nlaugmenter.transformations.change_date_format                        import ChangeDateFormat\n",
    "from nlaugmenter.transformations.tense                                     import TenseTransformation\n",
    "from nlaugmenter.transformations.dyslexia_words_swap                       import DyslexiaWordsSwap\n",
    "from nlaugmenter.transformations.gender_culture_diverse_name               import GenderCultureDiverseName\n",
    "from nlaugmenter.transformations.gender_neutral_rewrite                    import GenderNeutralRewrite\n",
    "from nlaugmenter.transformations.lost_in_translation                       import LostInTranslation\n",
    "from nlaugmenter.transformations.insert_abbreviation                       import AbbreviationInsertionEN\n",
    "from nlaugmenter.transformations.random_deletion                           import RandomDeletion\n",
    "from nlaugmenter.transformations.transformer_fill                          import TransformerFill\n",
    "from nlaugmenter.transformations.concat_monolingual                        import ConcatMonolingual\n",
    "from nlaugmenter.transformations.country_state_abbreviation_transformation import CountryStateAbbreviation\n",
    "from nlaugmenter.transformations.butter_fingers_perturbation               import ButterFingersPerturbation\n",
    "from nlaugmenter.transformations.replace_abbreviation_and_acronyms         import ReplaceAbbreviations\n",
    "from nlaugmenter.transformations.slangificator                             import Slangificator\n",
    "from nlaugmenter.transformations.yes_no_question                           import YesNoQuestionPerturbation\n",
    "from nlaugmenter.transformations.gender_swap                               import GenderSwap\n",
    "from nlaugmenter.transformations.close_homophones_swap                     import CloseHomophonesSwap\n",
    "from nlaugmenter.transformations.simple_ciphers                            import SimpleCiphers\n",
    "from nlaugmenter.transformations.change_person_named_entities              import ChangePersonNamedEntities\n",
    "from nlaugmenter.transformations.greetings_and_farewells                   import GreetingsAndFarewells\n",
    "from nlaugmenter.transformations.discourse_marker_substitution             import DiscourseMarkerSubstitution\n",
    "from nlaugmenter.transformations.summarization_transformation              import Summarization\n",
    "from nlaugmenter.transformations.visual_attack_letters                     import VisualAttackLetters\n",
    "from nlaugmenter.transformations.sentence_reordering                       import SentenceReordering\n",
    "from nlaugmenter.transformations.change_char_case                          import ChangeCharCase\n",
    "from nlaugmenter.transformations.antonyms_substitute                       import AntonymsSubstitute\n",
    "from nlaugmenter.transformations.mix_transliteration                       import MixTransliteration\n",
    "from nlaugmenter.transformations.disability_transformation                 import DifferentAbilityTransformation\n",
    "from nlaugmenter.transformations.abbreviation_transformation               import Abbreviate\n",
    "from nlaugmenter.transformations.replace_with_hyponyms_hypernyms           import ReplaceHypernyms\n",
    "from nlaugmenter.transformations.replace_with_hyponyms_hypernyms           import ReplaceHyponyms\n",
    "from nlaugmenter.transformations.grapheme_to_phoneme_transformation        import PhonemeSubstitution\n",
    "from nlaugmenter.transformations.multilingual_lexicon_perturbation         import MultilingualLexiconPerturbation\n",
    "from nlaugmenter.transformations.multilingual_back_translation             import MultilingualBackTranslation\n",
    "from nlaugmenter.transformations.unit_converter                            import UnitConverter\n",
    "from nlaugmenter.transformations.adjectives_antonyms_switch                import SentenceAdjectivesAntonymsSwitch\n",
    "from nlaugmenter.transformations.correct_common_misspellings               import CorrectCommonMisspellings\n",
    "from nlaugmenter.transformations.neural_question_paraphraser               import NeuralParaphaserPerturbation\n",
    "from nlaugmenter.transformations.subject_object_switch                     import SentenceSubjectObjectSwitch\n",
    "from nlaugmenter.transformations.numeric_to_word                           import NumericToWord\n",
    "from nlaugmenter.transformations.multilingual_dictionary_based_code_switch import MultilingualDictionaryBasedCodeSwitch\n",
    "from nlaugmenter.transformations.diverse_paraphrase                        import DiverseParaphrase\n",
    "from nlaugmenter.transformations.english_inflectional_variation            import EnglishInflectionalVariation\n",
    "from nlaugmenter.transformations.replace_numerical_values                  import ReplaceNumericalValues\n",
    "from nlaugmenter.transformations.speech_disfluency_perturbation            import SpeechDisfluencyPerturbation\n",
    "from nlaugmenter.transformations.whitespace_perturbation                   import WhitespacePerturbation\n",
    "from nlaugmenter.transformations.contraction_expansions                    import ContractionExpansions\n",
    "from nlaugmenter.transformations.color_transformation                      import ColorTransformation\n",
    "from nlaugmenter.transformations.contextual_meaning_perturbation           import ContextualMeaningPerturbation\n",
    "from nlaugmenter.transformations.pig_latin                                 import PigLatin\n",
    "from nlaugmenter.transformations.leet_letters                              import LeetLetters\n",
    "from nlaugmenter.transformations.hashtagify                                import HashtagifyTransformation\n",
    "from nlaugmenter.transformations.propbank_srl_roles                        import CheckSrl\n",
    "from nlaugmenter.transformations.geo_names_transformation                  import GeoNamesTransformation"
   ]
  },
  {
   "cell_type": "code",
   "execution_count": 4,
   "id": "0408a99c",
   "metadata": {},
   "outputs": [],
   "source": [
    "import warnings\n",
    "warnings.filterwarnings(\"ignore\")"
   ]
  },
  {
   "cell_type": "code",
   "execution_count": 5,
   "id": "cec473e4",
   "metadata": {},
   "outputs": [],
   "source": [
    "torch.use_deterministic_algorithms(False)\n",
    "disable_progress_bar()"
   ]
  },
  {
   "cell_type": "code",
   "execution_count": 6,
   "id": "b61f4eac",
   "metadata": {},
   "outputs": [],
   "source": [
    "# helper functions\n",
    "\n",
    "def normalize_minmax(df):\n",
    "    for column in df.columns:\n",
    "        df[column] = (df[column] - df[column].min()) / (df[column].max() - df[column].min())  \n",
    "    return df\n",
    "\n",
    "def normalize_sum(df):\n",
    "    for column in df.columns:\n",
    "        df[column] = df[column] / df[column].sum()\n",
    "    return df\n",
    "\n",
    "def augment_data(batch, transform, keep_originals=True):\n",
    "    new_texts, new_labels = [], []\n",
    "    for text, label in zip(batch['text'], batch['label']):\n",
    "        new_text, new_label = transform.apply([text], [label])\n",
    "        new_texts.extend(new_text)\n",
    "        new_labels.extend(new_label)\n",
    "    if keep_originals:\n",
    "        return {\"text\": batch['text'] + new_texts, \"label\": batch['label'] + new_labels}\n",
    "    else:\n",
    "        return {\"text\": new_texts, \"label\": new_labels}\n",
    "    \n",
    "def percent_dataset_changed(d1, d2):\n",
    "    return sum([t1['text'] != t2['text'] for t1, t2 in zip(d1, d2)]) / len(d1) \n",
    "\n",
    "def compute_metrics(eval_pred):\n",
    "    predictions, labels = eval_pred\n",
    "    acc = accuracy_score(labels, predictions.argmax(-1))\n",
    "    precision, recall, fbeta_score, support = precision_recall_fscore_support(\n",
    "        y_true=labels, \n",
    "        y_pred=predictions.argmax(-1), \n",
    "        average=\"weighted\", \n",
    "        zero_division=0)\n",
    "    return { 'accuracy': acc , \n",
    "             'precision': precision, \n",
    "             'recall': recall, \n",
    "             'fbeta_score': fbeta_score} \n",
    "\n",
    "def compute_accuracy(predictions, labels):\n",
    "    if not isinstance(labels, np.ndarray):\n",
    "        labels = np.array(labels)\n",
    "    if len(labels.shape) > 1:\n",
    "        acc = acc_at_k(labels, predictions, k=2)       \n",
    "    else:\n",
    "        acc = accuracy_score(labels, np.argmax(predictions, -1))\n",
    "    return acc\n",
    "\n",
    "def vectorize(output):\n",
    "    sorted_output = sorted(output, key=lambda d: d['label']) \n",
    "    probs = torch.tensor([d['score'] for d in sorted_output])\n",
    "    return probs\n",
    "\n",
    "def sample_transforms(transforms, p, n=2, replace=False):\n",
    "    return np.random.choice(transforms, size=n, p=p, replace=replace).tolist()\n",
    "\n",
    "def policy_heatmap(policy, transforms, featurizers):\n",
    "    t_names = [t.transform_class.__name__ for t in transforms]\n",
    "    f_names = [f.__name__ for f in featurizers]\n",
    "    df = pd.DataFrame(policy)\n",
    "    df.columns = f_names\n",
    "    df.index = t_names\n",
    "    sns.heatmap(df)\n",
    "    plt.show()\n",
    "    \n",
    "def implement_policy_probabilities(policy, features):\n",
    "    default_probability = policy.mean(axis=1)\n",
    "    policy_probs = []\n",
    "    for f in features:\n",
    "        available_features = np.nonzero(f)[0]\n",
    "        if len(available_features) == 0:\n",
    "            probs = default_probability\n",
    "        else:\n",
    "            probs = policy[:, available_features].mean(axis=1)\n",
    "        policy_probs.append(probs)\n",
    "    return np.array(policy_probs)"
   ]
  },
  {
   "cell_type": "code",
   "execution_count": 7,
   "id": "af0516f0",
   "metadata": {},
   "outputs": [],
   "source": [
    "class Transform:\n",
    "    def __init__(self, transform_class, num_outputs=1, task_name=\"sentiment\"):\n",
    "        self.transform_class = transform_class\n",
    "        self.num_outputs = num_outputs\n",
    "        self.task_name = task_name\n",
    "        self.device = torch.device('cuda' if torch.cuda.is_available() else 'cpu')\n",
    "        self.intakes_target = False\n",
    "        self.is_batched = False\n",
    "        \n",
    "        # setting class attributes\n",
    "        if 'to_tense' in inspect.signature(self.transform_class).parameters:\n",
    "            print(f\"initializing {self.transform_class.__name__} with to_tense='past'\") # future & random don't work\n",
    "            self.transform_instance = self.transform_class(to_tense=\"past\")\n",
    "        elif 'source_lang' in inspect.signature(self.transform_class).parameters:\n",
    "            print(f\"initializing {self.transform_class.__name__} with source_lang='es'\") \n",
    "            self.transform_instance = self.transform_class(source_lang=\"es\")\n",
    "        elif 'task_name' in inspect.signature(self.transform_class).parameters:\n",
    "            print(f\"initializing {self.transform_class.__name__} with task_name='{task_name}', return_metadata=True\") \n",
    "            self.transform_instance = self.transform_class(task_name=self.task_name, return_metadata=True)\n",
    "        elif isinstance(self.transform_class, LostInTranslation):\n",
    "            print(f\"initializing {self.transform_class.__name__} with device=0\")\n",
    "            self.transform_instance = self.transform_class(device=0)\n",
    "        else:\n",
    "            print(f\"initializing {self.transform_class.__name__}\")\n",
    "            self.transform_instance = self.transform_class()\n",
    "        \n",
    "        # setting instance attributes\n",
    "        if hasattr(self.transform_instance, \"max_outputs\"):\n",
    "            print(f\"setting max_outputs={self.num_outputs}\")\n",
    "            self.transform_instance.max_outputs = self.num_outputs\n",
    "        if hasattr(self.transform_instance, \"max_paraphrases\"):\n",
    "            print(f\"setting max_paraphrases={self.num_outputs}\")\n",
    "            self.transform_instance.max_paraphrases = self.num_outputs\n",
    "        if hasattr(self.transform_instance, \"device\"):\n",
    "            if self.transform_instance.device is None or self.transform_instance.device == 'cpu':\n",
    "                print(f\"setting device={self.device}\")\n",
    "                self.transform_instance.device = self.device\n",
    "        \n",
    "        # selecting the transformation function\n",
    "        if hasattr(self.transform_class, \"generate\"):\n",
    "            self.transform_fn = self.transform_instance.generate\n",
    "        if hasattr(self.transform_class, \"augment\"):\n",
    "            self.transform_fn = self.transform_instance.augment\n",
    "        if hasattr(self.transform_class, \"transform_batch\"):\n",
    "            self.transform_fn = self.transform_instance.transform_batch\n",
    "            self.intakes_target = True\n",
    "            self.is_batched = True\n",
    "            \n",
    "    def synced_shuffle(self, list1, list2):\n",
    "        # Shuffle two lists with same order\n",
    "        # Using zip() + * operator + shuffle()\n",
    "        temp = list(zip(list1, list2))\n",
    "        random.shuffle(temp)\n",
    "        res1, res2 = zip(*temp)\n",
    "        # res1 and res2 come out as tuples, and so must be converted to lists.\n",
    "        res1, res2 = list(res1), list(res2)\n",
    "        return res1, res2\n",
    "            \n",
    "    def apply(self, texts, labels=None):\n",
    "        if self.intakes_target:\n",
    "            if self.is_batched:\n",
    "                new_texts, new_labels = self.transform_fn((texts, labels))\n",
    "            else:\n",
    "                new_texts, new_labels = [], []\n",
    "                for t, l in zip(texts, labels):\n",
    "                    new_t, new_l = self.transform_fn(t, l)\n",
    "                    new_texts.append(new_t)\n",
    "                    new_labels.extend([new_l] * len(new_t))\n",
    "        else:\n",
    "            if self.is_batched:\n",
    "                new_texts = self.transform_fn((texts))\n",
    "                new_texts = labels\n",
    "            else:\n",
    "                new_texts, new_labels = [], []\n",
    "                for t, l in zip(texts, labels):\n",
    "                    new_t = self.transform_fn(t)\n",
    "                    if len(new_t) > self.num_outputs:\n",
    "                        new_t = new_t[:self.num_outputs]\n",
    "                    new_texts.extend(new_t)\n",
    "                    new_labels.extend([l] * len(new_t))\n",
    "                    \n",
    "        # post processing since some transformations add/remove more new outputs than expected\n",
    "        if len(new_texts) == 0:\n",
    "            print(\"no new_texts, substituting original texts...\")\n",
    "            new_texts = texts\n",
    "        if len(new_labels) == 0:\n",
    "            print(\"no new_labels, substituting original labels...\")\n",
    "            new_labels = labels\n",
    "        new_texts, new_labels = self.synced_shuffle(new_texts, new_labels)\n",
    "        \n",
    "        expected_len = len(texts) * self.num_outputs\n",
    "        new_texts = new_texts[:expected_len]\n",
    "        new_labels = new_labels[:expected_len]\n",
    "        \n",
    "        return new_texts, new_labels"
   ]
  },
  {
   "cell_type": "code",
   "execution_count": 8,
   "id": "79c7635d",
   "metadata": {},
   "outputs": [],
   "source": [
    "class AMRGraph:\n",
    "    def __init__(self, amr):\n",
    "        self.graph = penman.decode(amr) if not isinstance(amr, penman.graph.Graph) else amr\n",
    "        self.amr_text = penman.encode(self.graph)\n",
    "\n",
    "    def contains_concept(self, concepts):\n",
    "        \"\"\"\n",
    "        Concepts are nodes / instances in the AMR graph.\n",
    "        \"\"\"\n",
    "        try:\n",
    "            if not isinstance(concepts, list): concepts = [concepts]\n",
    "            graph_concepts = [t.target for t in self.graph.instances()]\n",
    "            return any(c for c in graph_concepts if c in concepts)\n",
    "        except Exception as e:\n",
    "            print(e)\n",
    "            print(self.graph, self.amr_text)\n",
    "\n",
    "    def contains_role(self, roles):\n",
    "        \"\"\"\n",
    "        Roles are edges in the AMR graph.\n",
    "        \"\"\"\n",
    "        try:\n",
    "            if not isinstance(roles, list): roles = [roles]\n",
    "            graph_roles = [e.role for e in self.graph.edges()]\n",
    "            return any(r for r in graph_roles if r in roles)\n",
    "        except Exception as e:\n",
    "            print(e)\n",
    "            print(self.graph, self.amr_text)\n",
    "\n",
    "    def contains_attribute(self, attributes):\n",
    "        \"\"\"\n",
    "        Attributes are properties of concept nodes, i.e. relationships to \n",
    "        constant values.\n",
    "        \"\"\"\n",
    "        try:\n",
    "            if not isinstance(attributes, list): attributes = [attributes]\n",
    "            graph_attrs = [a.target for a in self.graph.attributes()]\n",
    "            return any(a for a in graph_attrs if a in attributes)\n",
    "        except Exception as e:\n",
    "            print(e)\n",
    "            print(self.graph, self.amr_text)"
   ]
  },
  {
   "cell_type": "code",
   "execution_count": 9,
   "id": "d81c17bd",
   "metadata": {},
   "outputs": [],
   "source": [
    "# attributes =============================================================\n",
    "\n",
    "def contains_imperative(g): return g.contains_attribute(\"imperative\")\n",
    "def contains_exlamation(g): return g.contains_attribute(\"expressive\")\n",
    "def contains_negation(g):   return g.contains_attribute(\"-\")\n",
    "\n",
    "# concepts ===============================================================\n",
    "\n",
    "def contains_conjunctions(g):         return g.contains_concept([\"and\", \"or\", \"contrast-01\", \"either\", \"neither\"])\n",
    "def contains_interrogative_clause(g): return g.contains_concept(\"truth-value\")\n",
    "def contains_question(g):             return g.contains_concept([\"amr-unknown\", \"amr-choice\"])\n",
    "\n",
    "# roles ==================================================================\n",
    "\n",
    "def contains_coreferences(g): return any(r for r in g.amr_text.split() if r in ['i', 'you', 'he', 'she', 'it', 'we', 'they'])\n",
    "def contains_number(g):       return any(a for a in g.graph.attributes() if a.target.isnumeric())\n",
    "\n",
    "def contains_accompanier(g):  return g.contains_role(':accompanier')\n",
    "def contains_age(g):          return g.contains_role(':age')\n",
    "def contains_beneficiary(g):  return g.contains_role(':beneficiary')\n",
    "def contains_concession(g):   return g.contains_role(':concession')\n",
    "def contains_condition(g):    return g.contains_role(':condition')\n",
    "def contains_consist_of(g):   return any(r for r in g.amr_text.split() if r in [':consist-of'])\n",
    "def contains_degree(g):       return g.contains_role(':degree')\n",
    "def contains_destination(g):  return g.contains_role(':destination')\n",
    "def contains_direction(g):    return g.contains_role(':direction')\n",
    "def contains_domain(g):       return g.contains_role(':domain')\n",
    "def contains_duration(g):     return g.contains_role(':duration')\n",
    "def contains_example(g):      return g.contains_role(':example')\n",
    "def contains_extent(g):       return g.contains_role(':extent')\n",
    "def contains_frequency(g):    return g.contains_role(':frequency')\n",
    "def contains_instrument(g):   return g.contains_role(':instrument')\n",
    "# def contains_li(g):           return g.contains_role(':li')\n",
    "def contains_location(g):     return g.contains_role(':location')\n",
    "def contains_manner(g):       return g.contains_role(':manner')\n",
    "def contains_medium(g):       return g.contains_role(':medium')\n",
    "def contains_mod(g):          return g.contains_role(':mod')\n",
    "def contains_mode(g):         return any(a for a in g.graph.attributes() if \":mode\" in a.role)\n",
    "def contains_name(g):         return g.contains_role(':name')\n",
    "def contains_ord(g):          return g.contains_role(':ord')\n",
    "def contains_part(g):         return g.contains_role(':part')\n",
    "def contains_path(g):         return g.contains_role(':path')\n",
    "def contains_polarity(g):     return g.contains_role(':polarity')\n",
    "def contains_polite(g):       return any(r for r in g.amr_text.split() if r in [':polite'])\n",
    "def contains_poss(g):         return g.contains_role(':poss')\n",
    "def contains_purpose(g):      return g.contains_role(':purpose')\n",
    "def contains_quant(g):        return g.contains_role(':quant')\n",
    "def contains_range(g):        return g.contains_role(':range')\n",
    "def contains_scale(g):        return g.contains_role(':scale')\n",
    "def contains_source(g):       return g.contains_role(':source')\n",
    "def contains_subevent(g):     return g.contains_role(':subevent')\n",
    "def contains_time(g):         return g.contains_role(':time')\n",
    "def contains_topic(g):        return g.contains_role(':topic')\n",
    "def contains_unit(g):         return g.contains_role(':unit')\n",
    "# def contains_value(g):        return g.contains_role(':value')\n",
    "def contains_wiki(g):         return g.contains_role(':wiki')"
   ]
  },
  {
   "cell_type": "code",
   "execution_count": 10,
   "id": "363516ef",
   "metadata": {},
   "outputs": [],
   "source": [
    "class AMRFeatureExtractor:\n",
    "    \n",
    "    def __init__(self):\n",
    "        self.featurizers = featurizers = [    \n",
    "            contains_accompanier,\n",
    "            contains_age,\n",
    "            contains_beneficiary,\n",
    "            contains_concession,\n",
    "            contains_condition,\n",
    "            contains_conjunctions,\n",
    "            contains_consist_of,\n",
    "            contains_coreferences,\n",
    "            contains_degree,\n",
    "            contains_destination,\n",
    "            contains_direction,\n",
    "            contains_domain,\n",
    "            contains_duration,\n",
    "            contains_example,\n",
    "            contains_exlamation,\n",
    "            contains_extent,\n",
    "            contains_frequency,\n",
    "            contains_imperative,\n",
    "            contains_instrument,\n",
    "            contains_interrogative_clause,\n",
    "            contains_location,\n",
    "            contains_manner,\n",
    "            contains_medium,\n",
    "            contains_mod,\n",
    "            contains_mode,\n",
    "            contains_name,\n",
    "            contains_negation,\n",
    "            contains_number,\n",
    "            contains_ord,\n",
    "            contains_part,\n",
    "            contains_path,\n",
    "            contains_polarity,\n",
    "            contains_polite,\n",
    "            contains_poss,\n",
    "            contains_purpose,\n",
    "            contains_quant,\n",
    "            contains_question,\n",
    "            contains_range,\n",
    "            contains_scale,\n",
    "            contains_source,\n",
    "            contains_subevent,\n",
    "            contains_time,\n",
    "            contains_topic,\n",
    "            contains_unit\n",
    "        ]\n",
    "        self.featurizers = sorted(featurizers, key=lambda f: f.__name__)\n",
    "        self.amr_model   = None\n",
    "        \n",
    "    def load_amr_model(self, max_sent_len=128):\n",
    "        self.amr_model = amrlib.load_stog_model(max_sent_len=max_sent_len)\n",
    "        \n",
    "    def text_to_amr(self, texts):\n",
    "        if self.amr_model is None:\n",
    "            self.load_amr_model()\n",
    "        amr_penmans = self.amr_model.parse_sents(texts, add_metadata=False, disable_progress=True)\n",
    "        amr_graphs = []\n",
    "        for p in amr_penmans:\n",
    "            try:\n",
    "                amr_graphs.append(AMRGraph(p))\n",
    "            except Exception as e: \n",
    "                print(e)\n",
    "                print(p)\n",
    "                amr_graphs.append(AMRGraph(p))\n",
    "        return amr_graphs\n",
    "    \n",
    "    def generate_feature_matrix(self, graphs):\n",
    "        feature_matrix = []\n",
    "        for g in graphs:\n",
    "            feature_vector = []\n",
    "            for f in self.featurizers:\n",
    "                feature_vector.append(f(g))\n",
    "            feature_matrix.append(feature_vector)\n",
    "        feature_matrix = np.array(feature_matrix, dtype=np.int32)\n",
    "        return feature_matrix\n",
    "    \n",
    "    def __call__(self, texts):\n",
    "        graphs = self.text_to_amr(texts)\n",
    "        return self.generate_feature_matrix(graphs)\n",
    "        "
   ]
  },
  {
   "cell_type": "code",
   "execution_count": 11,
   "id": "3b1fe2af",
   "metadata": {},
   "outputs": [],
   "source": [
    "def transforms_to_ids(sampled_transforms, all_transforms):\n",
    "    transforms_ids = [all_transforms.index(i) for i in sampled_transforms]\n",
    "    transforms_applied = np.zeros(len(all_transforms), dtype=np.int32)\n",
    "    transforms_applied[transforms_ids] = 1\n",
    "    return transforms_applied"
   ]
  },
  {
   "cell_type": "code",
   "execution_count": 12,
   "id": "85172943",
   "metadata": {},
   "outputs": [],
   "source": [
    "class Augmenter:\n",
    "    def __init__(self, \n",
    "                 dataset,\n",
    "                 transforms,\n",
    "                 transform_probabilities = None, \n",
    "                 num_augmentations_per_record = 5,\n",
    "                 num_transforms_to_apply = 2,\n",
    "                 batch_size = 10,\n",
    "                 allow_resampling = False,\n",
    "                 keep_originals = False,\n",
    "                 feature_extractor = None,\n",
    "                 perf_extractor = None):\n",
    "        \n",
    "        self.dataset = dataset\n",
    "        self.transforms = transforms\n",
    "        self.transform_probabilities = transform_probabilities\n",
    "        self.num_augmentations_per_record = num_augmentations_per_record\n",
    "        self.num_transforms_to_apply = num_transforms_to_apply\n",
    "        self.batch_size = batch_size\n",
    "        self.allow_resampling = allow_resampling\n",
    "        self.keep_originals = keep_originals\n",
    "        self.feature_extractor = feature_extractor\n",
    "        self.perf_extractor = perf_extractor\n",
    "        \n",
    "        # initializations\n",
    "        self.dataset = dataset.remove_columns(\"idx\")\n",
    "        self.add_idx_to_dataset()\n",
    "        self.num_transforms_available = len(self.transforms)\n",
    "        \n",
    "        if self.transform_probabilities is None:\n",
    "            # set to uniform\n",
    "            num_examples = len(self.dataset)\n",
    "            num_transforms = len(self.transforms)\n",
    "            uniform_policy = np.full((num_examples, num_transforms), fill_value=1/num_transforms)\n",
    "            self.transform_probabilities = uniform_policy\n",
    "        \n",
    "    def add_idx_to_dataset(self):\n",
    "        if 'idx' not in self.dataset.features:\n",
    "            self.dataset = self.dataset.add_column(\"idx\", range(len(self.dataset)))\n",
    "        \n",
    "    def apply_to_batch(self, batch):\n",
    "        new_texts, new_labels, transforms_applied, is_changed = [], [], [], []\n",
    "        for idx, text, label in zip(batch['idx'], batch['text'], batch['label']):\n",
    "            actual_batch_size = len(batch['idx'])\n",
    "            original_text, original_label = text, label\n",
    "            for _ in range(self.num_augmentations_per_record):\n",
    "                sampled_transforms = sample_transforms(self.transforms, \n",
    "                                                       p=self.transform_probabilities[idx], \n",
    "                                                       n=self.num_transforms_to_apply, \n",
    "                                                       replace=self.allow_resampling)\n",
    "                transforms_applied.append(transforms_to_ids(sampled_transforms, self.transforms))\n",
    "                for t in sampled_transforms:\n",
    "                    try:\n",
    "                        text, label = t.apply([text], [label])\n",
    "                        text, label = text[0], label[0]\n",
    "                    except Exception as e: \n",
    "                        print(e)\n",
    "                        print(f\"[Augmenter]: skipping augmentation from {t.transform_class.__name__} on text:'{text}' and label: {label}\")\n",
    "\n",
    "                # avoid adding records with empty text\n",
    "                if text:\n",
    "                    new_texts.append(text)\n",
    "                    new_labels.append(label)\n",
    "                    is_changed.append(int(original_text != text))\n",
    "\n",
    "        if self.keep_originals:\n",
    "            new_texts = batch['text'] + new_texts\n",
    "            new_labels = batch['label'] + new_labels\n",
    "            realized_batch_size = len(new_labels)\n",
    "            transforms_applied = transforms_applied + np.zeros((actual_batch_size, len(self.transforms)), dtype=np.int32).tolist()\n",
    "            is_changed = is_changed + [0] * actual_batch_size\n",
    "            out = {\n",
    "                \"text\": new_texts, \n",
    "                \"label\": new_labels,\n",
    "                \"idx\": list(range(realized_batch_size)),\n",
    "                \"transforms_applied\": [t for t in transforms_applied],\n",
    "                \"is_changed\": is_changed\n",
    "            }\n",
    "        else:\n",
    "            out = {\n",
    "                \"text\": new_texts, \n",
    "                \"label\": new_labels, \n",
    "                \"idx\": list(range(len(new_labels))),\n",
    "                \"transforms_applied\": transforms_applied,\n",
    "                \"is_changed\": is_changed\n",
    "            }\n",
    "\n",
    "        return out\n",
    "            \n",
    "                                                   \n",
    "    def augment(self):\n",
    "        dataset = self.dataset.map(self.apply_to_batch, batched=True, batch_size=self.batch_size)\n",
    "        dataset = dataset.remove_columns(\"idx\")\n",
    "    \n",
    "        # feature extraction\n",
    "        if self.feature_extractor is not None:\n",
    "            features = self.feature_extractor(dataset[\"text\"])\n",
    "            dataset = dataset.add_column(\"features\", [f for f in features])\n",
    "                \n",
    "        # performance scoring    \n",
    "        if self.perf_extractor is not None:\n",
    "            performances = self.perf_extractor(dataset[\"text\"], dataset[\"label\"])\n",
    "            dataset = dataset.add_column(\"performance\", [p for p in performances])\n",
    "                \n",
    "        return dataset"
   ]
  },
  {
   "cell_type": "code",
   "execution_count": 13,
   "id": "76aa080e",
   "metadata": {},
   "outputs": [],
   "source": [
    "class Likelihood:\n",
    "    def __init__(self):\n",
    "        self.scorer = torch.nn.NLLLoss(reduction=\"none\")\n",
    "    \n",
    "    def __call__(self, probs, targets, indices=None):\n",
    "        return -self.scorer(probs, targets).numpy()\n",
    "    \n",
    "class InverseLikelihood:\n",
    "    def __init__(self):\n",
    "        self.scorer = torch.nn.NLLLoss(reduction=\"none\")\n",
    "    \n",
    "    def __call__(self, probs, targets, indices=None):\n",
    "        return 1+self.scorer(probs, targets).numpy()\n",
    "    \n",
    "class CleanLabSafe:\n",
    "    def __init__(self):\n",
    "        pass\n",
    "        \n",
    "    def __call__(self, probs, targets, indices=None):\n",
    "        probs = probs.numpy()\n",
    "        targets = targets.numpy()\n",
    "        scores = ~find_label_issues(\n",
    "            labels=targets,\n",
    "            pred_probs=probs,\n",
    "            n_jobs=1\n",
    "        )\n",
    "        return scores.astype(np.int32).tolist()\n",
    "    \n",
    "class LikelihoodShift:\n",
    "    def __init__(self, original_dataset, direction=\"positive\"):\n",
    "        self.original_dataset = original_dataset\n",
    "        self.direction = direction\n",
    "        self.scorer = torch.nn.NLLLoss(reduction=\"none\")\n",
    "        \n",
    "    def __call__(self, probs, targets, indices=None):\n",
    "        new_scores  = -self.scorer(probs, targets).numpy()\n",
    "        \n",
    "        old_probs   = torch.tensor(self.original_dataset.select(indices)[\"preds\"])\n",
    "        old_targets = torch.tensor(self.original_dataset.select(indices)['label'])\n",
    "        old_scores  = -self.scorer(old_probs, old_targets).numpy()\n",
    "            \n",
    "        if self.direction in \"positive\":\n",
    "            scores = (new_scores - old_scores).clip(0, 1)\n",
    "        elif self.direction in \"negative\":\n",
    "            scores = (old_scores - new_scores).clip(0, 1)\n",
    "        else:\n",
    "            scores = new_scores\n",
    "        return scores\n",
    "        \n",
    "class PerformanceExtractor:\n",
    "    def __init__(self, dataset_name, scorer, model_id=None):\n",
    "        self.dataset_name = dataset_name\n",
    "        self.scorer = scorer\n",
    "        self.model_id = model_id\n",
    "        self.api = HfApi()\n",
    "        self.pipe = None\n",
    "        self.device = 0 if torch.cuda.is_available() else -1\n",
    "\n",
    "        if self.model_id and not self.pipe:\n",
    "            self.create_pipe(self.model_id)\n",
    "\n",
    "        if not self.pipe:\n",
    "            self.find_model_for_dataset()\n",
    "\n",
    "    def create_pipe(self, model_id):\n",
    "        self.pipe = pipeline(\"text-classification\", \n",
    "                            model=model_id, \n",
    "                            device=self.device, \n",
    "                            padding=True, \n",
    "                            truncation=True,\n",
    "                            top_k=None)\n",
    "        return self.pipe\n",
    "\n",
    "    def find_model_for_dataset(self):\n",
    "        model_filter = ModelFilter(\n",
    "            task=\"text-classification\",\n",
    "            library=\"pytorch\",\n",
    "            # model_name=dataset_name,\n",
    "            trained_dataset=self.dataset_name)\n",
    "        model_id = next(iter(self.api.list_models(filter=model_filter)))\n",
    "        if model_id:\n",
    "            model_id = getattr(model_id, 'modelId')\n",
    "            print('Using ' + model_id + ' to support evaluation.')\n",
    "            self.create_pipe(model_id)\n",
    "\n",
    "    def extract_prediction_probabilities(self, inputs):\n",
    "        output = self.pipe(inputs)\n",
    "        return torch.stack([vectorize(o) for o in output])\n",
    "    \n",
    "    def extract_prediction_classes(self, inputs):\n",
    "        return torch.argmax(self.extract_prediction_probabilities(inputs), axis=1)\n",
    "\n",
    "    def __call__(self, inputs, targets, indices=None):\n",
    "        probs   = self.extract_prediction_probabilities(inputs)\n",
    "        targets = torch.tensor(targets)\n",
    "        return self.scorer(probs, targets, indices)"
   ]
  },
  {
   "cell_type": "markdown",
   "id": "f71c6532",
   "metadata": {},
   "source": [
    "## FADA v2.1"
   ]
  },
  {
   "cell_type": "code",
   "execution_count": 14,
   "id": "7de8febd",
   "metadata": {},
   "outputs": [],
   "source": [
    "dataset_config = (\"glue\", \"sst2\")\n",
    "task_name = \"sentiment\""
   ]
  },
  {
   "cell_type": "code",
   "execution_count": 15,
   "id": "2c3f69f8",
   "metadata": {},
   "outputs": [
    {
     "name": "stderr",
     "output_type": "stream",
     "text": [
      "2023-02-21 19:49:00,103 | datasets.builder | WARNING | Found cached dataset glue (C:/Users/fabri/.cache/huggingface/datasets/glue/sst2/1.0.0/dacbe3125aa31d7f70367a07a8a9e72a5a0bfeb5fc42e75c9db75b96da6053ad)\n"
     ]
    }
   ],
   "source": [
    "dataset = load_dataset(*dataset_config, split=\"train\")\n",
    "dataset = dataset.rename_column(\"sentence\", \"text\")"
   ]
  },
  {
   "cell_type": "code",
   "execution_count": 16,
   "id": "484683e8",
   "metadata": {
    "collapsed": true
   },
   "outputs": [
    {
     "name": "stdout",
     "output_type": "stream",
     "text": [
      "initializing Abbreviate\n",
      "setting max_outputs=1\n",
      "initializing AbbreviationInsertionEN\n",
      "setting max_outputs=1\n",
      "initializing AmericanizeBritishizeEnglish\n",
      "setting max_outputs=1\n",
      "initializing AntonymsSubstitute\n"
     ]
    },
    {
     "name": "stderr",
     "output_type": "stream",
     "text": [
      "[nltk_data] Downloading package wordnet to\n",
      "[nltk_data]     C:\\Users\\fabri\\AppData\\Roaming\\nltk_data...\n",
      "[nltk_data]   Package wordnet is already up-to-date!\n"
     ]
    },
    {
     "name": "stdout",
     "output_type": "stream",
     "text": [
      "setting max_outputs=1\n",
      "initializing AzertyQwertyCharsSwap\n",
      "setting max_outputs=1\n",
      "initializing BackTranslation\n"
     ]
    },
    {
     "data": {
      "application/vnd.jupyter.widget-view+json": {
       "model_id": "308b6ed29d67431abdeffff5f0a88004",
       "version_major": 2,
       "version_minor": 0
      },
      "text/plain": [
       "Downloading (…)/main/vocab-src.json:   0%|          | 0.00/849k [00:00<?, ?B/s]"
      ]
     },
     "metadata": {},
     "output_type": "display_data"
    },
    {
     "data": {
      "application/vnd.jupyter.widget-view+json": {
       "model_id": "9adbf66309f04ecd9e1c3ce19b7410b0",
       "version_major": 2,
       "version_minor": 0
      },
      "text/plain": [
       "Downloading (…)/main/vocab-tgt.json:   0%|          | 0.00/849k [00:00<?, ?B/s]"
      ]
     },
     "metadata": {},
     "output_type": "display_data"
    },
    {
     "data": {
      "application/vnd.jupyter.widget-view+json": {
       "model_id": "bf89509288004d18b58565217357ac19",
       "version_major": 2,
       "version_minor": 0
      },
      "text/plain": [
       "Downloading (…)olve/main/merges.txt:   0%|          | 0.00/315k [00:00<?, ?B/s]"
      ]
     },
     "metadata": {},
     "output_type": "display_data"
    },
    {
     "data": {
      "application/vnd.jupyter.widget-view+json": {
       "model_id": "5ad6ad37ff31487f972f40500b7c084d",
       "version_major": 2,
       "version_minor": 0
      },
      "text/plain": [
       "Downloading (…)okenizer_config.json:   0%|          | 0.00/67.0 [00:00<?, ?B/s]"
      ]
     },
     "metadata": {},
     "output_type": "display_data"
    },
    {
     "data": {
      "application/vnd.jupyter.widget-view+json": {
       "model_id": "035c65d7649a4582b727faa2a6f1d4b4",
       "version_major": 2,
       "version_minor": 0
      },
      "text/plain": [
       "Downloading (…)lve/main/config.json:   0%|          | 0.00/825 [00:00<?, ?B/s]"
      ]
     },
     "metadata": {},
     "output_type": "display_data"
    },
    {
     "data": {
      "application/vnd.jupyter.widget-view+json": {
       "model_id": "6a49fa583351442e92b01e6b0af4a9d7",
       "version_major": 2,
       "version_minor": 0
      },
      "text/plain": [
       "Downloading (…)\"pytorch_model.bin\";:   0%|          | 0.00/1.08G [00:00<?, ?B/s]"
      ]
     },
     "metadata": {},
     "output_type": "display_data"
    },
    {
     "data": {
      "application/vnd.jupyter.widget-view+json": {
       "model_id": "776fabec790b42b7877acf739aa4a163",
       "version_major": 2,
       "version_minor": 0
      },
      "text/plain": [
       "Downloading (…)neration_config.json:   0%|          | 0.00/235 [00:00<?, ?B/s]"
      ]
     },
     "metadata": {},
     "output_type": "display_data"
    },
    {
     "data": {
      "application/vnd.jupyter.widget-view+json": {
       "model_id": "c1565b5272c0450b89d254c3bb112abd",
       "version_major": 2,
       "version_minor": 0
      },
      "text/plain": [
       "Downloading (…)/main/vocab-src.json:   0%|          | 0.00/849k [00:00<?, ?B/s]"
      ]
     },
     "metadata": {},
     "output_type": "display_data"
    },
    {
     "data": {
      "application/vnd.jupyter.widget-view+json": {
       "model_id": "e50f6a97af544c97a2e43bf6e9802914",
       "version_major": 2,
       "version_minor": 0
      },
      "text/plain": [
       "Downloading (…)/main/vocab-tgt.json:   0%|          | 0.00/849k [00:00<?, ?B/s]"
      ]
     },
     "metadata": {},
     "output_type": "display_data"
    },
    {
     "data": {
      "application/vnd.jupyter.widget-view+json": {
       "model_id": "96e3aab454e247cca13a6561284f3ba3",
       "version_major": 2,
       "version_minor": 0
      },
      "text/plain": [
       "Downloading (…)olve/main/merges.txt:   0%|          | 0.00/315k [00:00<?, ?B/s]"
      ]
     },
     "metadata": {},
     "output_type": "display_data"
    },
    {
     "data": {
      "application/vnd.jupyter.widget-view+json": {
       "model_id": "1e762e43ccc74c809c2f73df4372510f",
       "version_major": 2,
       "version_minor": 0
      },
      "text/plain": [
       "Downloading (…)okenizer_config.json:   0%|          | 0.00/67.0 [00:00<?, ?B/s]"
      ]
     },
     "metadata": {},
     "output_type": "display_data"
    },
    {
     "data": {
      "application/vnd.jupyter.widget-view+json": {
       "model_id": "2e5e7e3cadce4b94b983e7de95c50356",
       "version_major": 2,
       "version_minor": 0
      },
      "text/plain": [
       "Downloading (…)lve/main/config.json:   0%|          | 0.00/825 [00:00<?, ?B/s]"
      ]
     },
     "metadata": {},
     "output_type": "display_data"
    },
    {
     "data": {
      "application/vnd.jupyter.widget-view+json": {
       "model_id": "332fee5fa21948d8a298bdb2bc56dd30",
       "version_major": 2,
       "version_minor": 0
      },
      "text/plain": [
       "Downloading (…)\"pytorch_model.bin\";:   0%|          | 0.00/1.08G [00:00<?, ?B/s]"
      ]
     },
     "metadata": {},
     "output_type": "display_data"
    },
    {
     "data": {
      "application/vnd.jupyter.widget-view+json": {
       "model_id": "f96daec91a774c4ea7bdfc317c3f3129",
       "version_major": 2,
       "version_minor": 0
      },
      "text/plain": [
       "Downloading (…)neration_config.json:   0%|          | 0.00/260 [00:00<?, ?B/s]"
      ]
     },
     "metadata": {},
     "output_type": "display_data"
    },
    {
     "name": "stdout",
     "output_type": "stream",
     "text": [
      "setting max_outputs=1\n",
      "initializing ButterFingersPerturbation\n",
      "setting max_outputs=1\n",
      "initializing ChangeCharCase\n",
      "setting max_outputs=1\n",
      "initializing ChangeDateFormat\n",
      "setting max_outputs=1\n",
      "initializing CityNamesTransformation\n",
      "setting max_outputs=1\n",
      "initializing ColorTransformation\n",
      "setting max_outputs=1\n",
      "initializing ConcatMonolingual\n",
      "setting max_outputs=1\n",
      "initializing ContractionExpansions\n",
      "setting max_outputs=1\n",
      "initializing CorrectCommonMisspellings\n",
      "setting max_outputs=1\n",
      "initializing CountryStateAbbreviation\n",
      "setting max_outputs=1\n",
      "initializing DiacriticRemoval\n",
      "setting max_outputs=1\n",
      "initializing DiscourseMarkerSubstitution\n",
      "setting max_outputs=1\n",
      "initializing DyslexiaWordsSwap\n",
      "setting max_outputs=1\n",
      "initializing EnglishInflectionalVariation\n",
      "setting max_outputs=1\n",
      "initializing FillerWordAugmentation\n",
      "setting max_outputs=1\n",
      "initializing GenderSwap\n",
      "Loading Operation GenderSwap\n",
      "setting max_outputs=1\n",
      "initializing GreetingsAndFarewells\n",
      "setting max_outputs=1\n",
      "initializing HashtagGeneration\n",
      "setting max_outputs=1\n",
      "initializing LeetLetters\n",
      "setting max_outputs=1\n",
      "initializing MultilingualBackTranslation\n"
     ]
    },
    {
     "data": {
      "application/vnd.jupyter.widget-view+json": {
       "model_id": "17a323fe6b65466d85635fb4774639a3",
       "version_major": 2,
       "version_minor": 0
      },
      "text/plain": [
       "Downloading (…)lve/main/config.json:   0%|          | 0.00/908 [00:00<?, ?B/s]"
      ]
     },
     "metadata": {},
     "output_type": "display_data"
    },
    {
     "data": {
      "application/vnd.jupyter.widget-view+json": {
       "model_id": "2d7adc339893413093cf6545d80455a5",
       "version_major": 2,
       "version_minor": 0
      },
      "text/plain": [
       "Downloading (…)\"pytorch_model.bin\";:   0%|          | 0.00/1.94G [00:00<?, ?B/s]"
      ]
     },
     "metadata": {},
     "output_type": "display_data"
    },
    {
     "data": {
      "application/vnd.jupyter.widget-view+json": {
       "model_id": "5148ff46622d4326943d479cf75c9745",
       "version_major": 2,
       "version_minor": 0
      },
      "text/plain": [
       "Downloading (…)neration_config.json:   0%|          | 0.00/233 [00:00<?, ?B/s]"
      ]
     },
     "metadata": {},
     "output_type": "display_data"
    },
    {
     "data": {
      "application/vnd.jupyter.widget-view+json": {
       "model_id": "836f7c9a62bb47b88d5bbf6fa47ad279",
       "version_major": 2,
       "version_minor": 0
      },
      "text/plain": [
       "Downloading (…)olve/main/vocab.json:   0%|          | 0.00/3.71M [00:00<?, ?B/s]"
      ]
     },
     "metadata": {},
     "output_type": "display_data"
    },
    {
     "data": {
      "application/vnd.jupyter.widget-view+json": {
       "model_id": "a84e0c1d380c4300b432bb63aec26f06",
       "version_major": 2,
       "version_minor": 0
      },
      "text/plain": [
       "Downloading (…)ncepiece.bpe.model\";:   0%|          | 0.00/2.42M [00:00<?, ?B/s]"
      ]
     },
     "metadata": {},
     "output_type": "display_data"
    },
    {
     "data": {
      "application/vnd.jupyter.widget-view+json": {
       "model_id": "17de20aab99f4a34af456156ac99a686",
       "version_major": 2,
       "version_minor": 0
      },
      "text/plain": [
       "Downloading (…)okenizer_config.json:   0%|          | 0.00/272 [00:00<?, ?B/s]"
      ]
     },
     "metadata": {},
     "output_type": "display_data"
    },
    {
     "data": {
      "application/vnd.jupyter.widget-view+json": {
       "model_id": "0ccbbe3b68bc49d08cc384845bdbbad7",
       "version_major": 2,
       "version_minor": 0
      },
      "text/plain": [
       "Downloading (…)cial_tokens_map.json:   0%|          | 0.00/1.14k [00:00<?, ?B/s]"
      ]
     },
     "metadata": {},
     "output_type": "display_data"
    },
    {
     "name": "stdout",
     "output_type": "stream",
     "text": [
      "setting max_outputs=1\n",
      "initializing MultilingualDictionaryBasedCodeSwitch\n",
      "setting max_outputs=1\n",
      "initializing NeuralParaphaserPerturbation\n"
     ]
    },
    {
     "data": {
      "application/vnd.jupyter.widget-view+json": {
       "model_id": "d8693d6b57c24a2fb9314a9b239d499c",
       "version_major": 2,
       "version_minor": 0
      },
      "text/plain": [
       "Downloading (…)lve/main/config.json:   0%|          | 0.00/1.21k [00:00<?, ?B/s]"
      ]
     },
     "metadata": {},
     "output_type": "display_data"
    },
    {
     "data": {
      "application/vnd.jupyter.widget-view+json": {
       "model_id": "a3d3f5abd7f04b029e63237ca01837ab",
       "version_major": 2,
       "version_minor": 0
      },
      "text/plain": [
       "Downloading (…)\"pytorch_model.bin\";:   0%|          | 0.00/892M [00:00<?, ?B/s]"
      ]
     },
     "metadata": {},
     "output_type": "display_data"
    },
    {
     "data": {
      "application/vnd.jupyter.widget-view+json": {
       "model_id": "955bd7ac193b4f69870a206e2762ee14",
       "version_major": 2,
       "version_minor": 0
      },
      "text/plain": [
       "Downloading (…)ve/main/spiece.model:   0%|          | 0.00/792k [00:00<?, ?B/s]"
      ]
     },
     "metadata": {},
     "output_type": "display_data"
    },
    {
     "data": {
      "application/vnd.jupyter.widget-view+json": {
       "model_id": "725962c343e24ce8a0847c2db9389647",
       "version_major": 2,
       "version_minor": 0
      },
      "text/plain": [
       "Downloading (…)cial_tokens_map.json:   0%|          | 0.00/1.79k [00:00<?, ?B/s]"
      ]
     },
     "metadata": {},
     "output_type": "display_data"
    },
    {
     "data": {
      "application/vnd.jupyter.widget-view+json": {
       "model_id": "3648bd5ab24d43769ea0603060256e2f",
       "version_major": 2,
       "version_minor": 0
      },
      "text/plain": [
       "Downloading (…)okenizer_config.json:   0%|          | 0.00/25.0 [00:00<?, ?B/s]"
      ]
     },
     "metadata": {},
     "output_type": "display_data"
    },
    {
     "name": "stdout",
     "output_type": "stream",
     "text": [
      "setting max_outputs=1\n",
      "initializing PigLatin\n",
      "setting max_outputs=1\n",
      "initializing ProtaugmentDiverseParaphrase\n"
     ]
    },
    {
     "data": {
      "application/vnd.jupyter.widget-view+json": {
       "model_id": "92d53d9933664fb7aec4bdf60ab78b71",
       "version_major": 2,
       "version_minor": 0
      },
      "text/plain": [
       "Downloading (…)lve/main/config.json:   0%|          | 0.00/1.78k [00:00<?, ?B/s]"
      ]
     },
     "metadata": {},
     "output_type": "display_data"
    },
    {
     "data": {
      "application/vnd.jupyter.widget-view+json": {
       "model_id": "7b6627175d7a46ed84fe47c61bf2c90d",
       "version_major": 2,
       "version_minor": 0
      },
      "text/plain": [
       "Downloading (…)\"pytorch_model.bin\";:   0%|          | 0.00/558M [00:00<?, ?B/s]"
      ]
     },
     "metadata": {},
     "output_type": "display_data"
    },
    {
     "data": {
      "application/vnd.jupyter.widget-view+json": {
       "model_id": "34fc383b3d7f4b67a8904b46352b2175",
       "version_major": 2,
       "version_minor": 0
      },
      "text/plain": [
       "Downloading (…)okenizer_config.json:   0%|          | 0.00/262 [00:00<?, ?B/s]"
      ]
     },
     "metadata": {},
     "output_type": "display_data"
    },
    {
     "data": {
      "application/vnd.jupyter.widget-view+json": {
       "model_id": "359401945bff4efaa444402c54c2b231",
       "version_major": 2,
       "version_minor": 0
      },
      "text/plain": [
       "Downloading (…)olve/main/vocab.json:   0%|          | 0.00/798k [00:00<?, ?B/s]"
      ]
     },
     "metadata": {},
     "output_type": "display_data"
    },
    {
     "data": {
      "application/vnd.jupyter.widget-view+json": {
       "model_id": "cac384b9c3714b45afe492bea3898415",
       "version_major": 2,
       "version_minor": 0
      },
      "text/plain": [
       "Downloading (…)olve/main/merges.txt:   0%|          | 0.00/456k [00:00<?, ?B/s]"
      ]
     },
     "metadata": {},
     "output_type": "display_data"
    },
    {
     "data": {
      "application/vnd.jupyter.widget-view+json": {
       "model_id": "a0143d0f77e24484906b359593b048fc",
       "version_major": 2,
       "version_minor": 0
      },
      "text/plain": [
       "Downloading (…)cial_tokens_map.json:   0%|          | 0.00/239 [00:00<?, ?B/s]"
      ]
     },
     "metadata": {},
     "output_type": "display_data"
    },
    {
     "name": "stdout",
     "output_type": "stream",
     "text": [
      "setting max_outputs=1\n",
      "initializing RandomDeletion\n",
      "setting max_outputs=1\n",
      "initializing RandomUpperPerturbation\n",
      "setting max_outputs=1\n",
      "initializing ReplaceAbbreviations\n",
      "setting max_outputs=1\n",
      "initializing ReplaceFinancialAmount\n",
      "setting max_outputs=1\n",
      "initializing ReplaceNumericalValues\n",
      "setting max_outputs=1\n",
      "initializing SentenceAdjectivesAntonymsSwitch\n",
      "setting max_outputs=1\n",
      "initializing SentenceAuxiliaryNegationRemoval\n",
      "setting max_outputs=1\n",
      "initializing SentenceSubjectObjectSwitch\n",
      "setting max_outputs=1\n",
      "initializing SimpleCiphers\n",
      "setting max_outputs=1\n",
      "initializing Slangificator\n",
      "setting max_outputs=1\n",
      "initializing SpeechDisfluencyPerturbation\n",
      "setting max_outputs=1\n",
      "initializing SpellingTransformation\n",
      "setting max_outputs=1\n",
      "initializing Summarization\n",
      "setting max_outputs=1\n",
      "initializing SynonymInsertion\n"
     ]
    },
    {
     "name": "stderr",
     "output_type": "stream",
     "text": [
      "[nltk_data] Downloading package wordnet to\n",
      "[nltk_data]     C:\\Users\\fabri\\AppData\\Roaming\\nltk_data...\n",
      "[nltk_data]   Package wordnet is already up-to-date!\n",
      "[nltk_data] Downloading package stopwords to\n",
      "[nltk_data]     C:\\Users\\fabri\\AppData\\Roaming\\nltk_data...\n",
      "[nltk_data]   Package stopwords is already up-to-date!\n"
     ]
    },
    {
     "name": "stdout",
     "output_type": "stream",
     "text": [
      "setting max_outputs=1\n",
      "initializing SynonymSubstitution\n"
     ]
    },
    {
     "name": "stderr",
     "output_type": "stream",
     "text": [
      "[nltk_data] Downloading package wordnet to\n",
      "[nltk_data]     C:\\Users\\fabri\\AppData\\Roaming\\nltk_data...\n",
      "[nltk_data]   Package wordnet is already up-to-date!\n"
     ]
    },
    {
     "name": "stdout",
     "output_type": "stream",
     "text": [
      "setting max_outputs=1\n",
      "initializing TenseTransformation with to_tense='past'\n",
      "setting max_outputs=1\n",
      "initializing TokenReplacement\n",
      "setting max_outputs=1\n",
      "initializing TransformerFill\n"
     ]
    },
    {
     "data": {
      "application/vnd.jupyter.widget-view+json": {
       "model_id": "e180027459de4b7db66c7fb9ce9da7f1",
       "version_major": 2,
       "version_minor": 0
      },
      "text/plain": [
       "Downloading (…)lve/main/config.json:   0%|          | 0.00/480 [00:00<?, ?B/s]"
      ]
     },
     "metadata": {},
     "output_type": "display_data"
    },
    {
     "data": {
      "application/vnd.jupyter.widget-view+json": {
       "model_id": "5ee9da21276f4c3984876f63b5d7a255",
       "version_major": 2,
       "version_minor": 0
      },
      "text/plain": [
       "Downloading (…)\"pytorch_model.bin\";:   0%|          | 0.00/331M [00:00<?, ?B/s]"
      ]
     },
     "metadata": {},
     "output_type": "display_data"
    },
    {
     "data": {
      "application/vnd.jupyter.widget-view+json": {
       "model_id": "b8db053098ef4b799a0e320b1de08998",
       "version_major": 2,
       "version_minor": 0
      },
      "text/plain": [
       "Downloading (…)olve/main/vocab.json:   0%|          | 0.00/899k [00:00<?, ?B/s]"
      ]
     },
     "metadata": {},
     "output_type": "display_data"
    },
    {
     "data": {
      "application/vnd.jupyter.widget-view+json": {
       "model_id": "955fe6f48f794b39af923c1496699813",
       "version_major": 2,
       "version_minor": 0
      },
      "text/plain": [
       "Downloading (…)olve/main/merges.txt:   0%|          | 0.00/456k [00:00<?, ?B/s]"
      ]
     },
     "metadata": {},
     "output_type": "display_data"
    },
    {
     "data": {
      "application/vnd.jupyter.widget-view+json": {
       "model_id": "c78d2f5fb6aa47e4b623a94ac65f0dc6",
       "version_major": 2,
       "version_minor": 0
      },
      "text/plain": [
       "Downloading (…)/main/tokenizer.json:   0%|          | 0.00/1.36M [00:00<?, ?B/s]"
      ]
     },
     "metadata": {},
     "output_type": "display_data"
    },
    {
     "name": "stdout",
     "output_type": "stream",
     "text": [
      "setting max_outputs=1\n",
      "initializing UnitConverter\n",
      "setting max_outputs=1\n",
      "initializing UseAcronyms\n",
      "setting max_outputs=1\n",
      "initializing VisualAttackLetters\n",
      "setting max_outputs=1\n",
      "initializing WeekdayMonthAbbreviation\n",
      "setting max_outputs=1\n",
      "initializing WhitespacePerturbation\n",
      "setting max_outputs=1\n",
      "initializing YesNoQuestionPerturbation\n",
      "setting max_outputs=1\n",
      "initializing YodaPerturbation\n",
      "setting max_outputs=1\n"
     ]
    }
   ],
   "source": [
    "nlaug_transforms = [\n",
    "    # EmojifyTransformation, # UnicodeDecodeError: 'charmap' codec can't decode byte 0x81 in position 220: character maps to <undefined>\n",
    "    SynonymInsertion,\n",
    "    BackTranslation, # runtime too long (does not attempt to use gpu) (50.15s/ba w gpu)\n",
    "    # NounCompoundParaphraser, # does not return anything\n",
    "    DiacriticRemoval,\n",
    "    AzertyQwertyCharsSwap,\n",
    "    HashtagGeneration,\n",
    "    SpellingTransformation,\n",
    "    TokenReplacement,\n",
    "    SentenceAuxiliaryNegationRemoval,\n",
    "    UseAcronyms,\n",
    "    YodaPerturbation,\n",
    "    # FactiveVerbTransformation, # cannot find gender.male.names\n",
    "    ProtaugmentDiverseParaphrase, # somewhat long runtime (29.63s/ba)\n",
    "    ReplaceFinancialAmount,\n",
    "    AmericanizeBritishizeEnglish,\n",
    "    # PunctuationWithRules,  # runtime too long (does not appear to be gpu compatible)\n",
    "    # UrbanThesaurusSwap, # runtime too long (195.74s/ba)\n",
    "    FillerWordAugmentation,\n",
    "    SynonymSubstitution,\n",
    "    # StyleTransferParaphraser, # runtime too long (192.32s/ba)\n",
    "    RandomUpperPerturbation,\n",
    "    WeekdayMonthAbbreviation,\n",
    "    CityNamesTransformation,\n",
    "    # SentenceAdditions, # runtime too long (does not attempt to use gpu) # RuntimeError: CUDA out of memory. even at batch_size=1\n",
    "    ChangeDateFormat,\n",
    "    TenseTransformation, # index out of range errors / NoneType errors if not using to_tense='past'\n",
    "    DyslexiaWordsSwap,\n",
    "    # GenderCultureDiverseName, # does not return anything\n",
    "    # GenderNeutralRewrite, # index out of range errors\n",
    "    # LostInTranslation, # IndexError: index out of range in self\n",
    "    AbbreviationInsertionEN,\n",
    "    RandomDeletion,\n",
    "    TransformerFill, # (3.20s/ba)\n",
    "    ConcatMonolingual,\n",
    "    CountryStateAbbreviation,\n",
    "    ButterFingersPerturbation,\n",
    "    ReplaceAbbreviations, # (4.52s/ba)\n",
    "    Slangificator,\n",
    "    YesNoQuestionPerturbation,\n",
    "    GenderSwap,\n",
    "    # CloseHomophonesSwap, # runs slow, no gpu (221.04s/ba)\n",
    "    SimpleCiphers,\n",
    "    # ChangePersonNamedEntities, # does not return anything\n",
    "    GreetingsAndFarewells,\n",
    "    DiscourseMarkerSubstitution,\n",
    "    Summarization,\n",
    "    VisualAttackLetters,\n",
    "    # SentenceReordering, # somwhat slow (41.14s/ba)\n",
    "    ChangeCharCase,\n",
    "    AntonymsSubstitute,\n",
    "    # MixTransliteration, # IndexError: list index out of range\n",
    "    # DifferentAbilityTransformation, UnboundLocalError: local variable 'text' referenced before assignment\n",
    "    Abbreviate,\n",
    "    # ReplaceHypernyms, # RuntimeError: CUDA out of memory. even at batch_size=1\n",
    "    # ReplaceHyponyms, # RuntimeError: CUDA out of memory. even at batch_size=1\n",
    "    # PhonemeSubstitution, # IndexError: list index out of range\n",
    "    # MultilingualLexiconPerturbation, FileNotFoundError: [Errno 2] No such file or directory: '/multilingual_lexicon_uncased.xz'\n",
    "    MultilingualBackTranslation, # runtime too long (does not attempt to use gpu) (98.04s/ba w gpu)\n",
    "    UnitConverter,\n",
    "    SentenceAdjectivesAntonymsSwitch,\n",
    "    CorrectCommonMisspellings,\n",
    "    NeuralParaphaserPerturbation, # somewhat slow (4.03s/ba)\n",
    "    SentenceSubjectObjectSwitch,\n",
    "    # NumericToWord, # InvalidOperation: [<class 'decimal.ConversionSyntax'>]\n",
    "    MultilingualDictionaryBasedCodeSwitch,\n",
    "    # DiverseParaphrase, # runtime too long (does not attempt to use gpu)\n",
    "    EnglishInflectionalVariation,\n",
    "    ReplaceNumericalValues,\n",
    "    SpeechDisfluencyPerturbation,\n",
    "    WhitespacePerturbation,\n",
    "    ContractionExpansions,\n",
    "    ColorTransformation,\n",
    "    # ContextualMeaningPerturbation, # runtime too long (not gpu compatible)\n",
    "    PigLatin,\n",
    "    LeetLetters,\n",
    "    # HashtagifyTransformation, # error: nothing to repeat at position 0\n",
    "    # CheckSrl, # RuntimeError: The size of tensor a (1127) must match the size of tensor b (512) at non-singleton dimension 1\n",
    "    # GeoNamesTransformation, # does not return anything\n",
    "]\n",
    "transforms = [t for t in nlaug_transforms]\n",
    "transforms = sorted(transforms, key=lambda t: t.__name__)\n",
    "transforms = [Transform(t, task_name=task_name) for t in transforms]"
   ]
  },
  {
   "cell_type": "code",
   "execution_count": 19,
   "id": "4c2e0160",
   "metadata": {},
   "outputs": [],
   "source": [
    "scorers = [\n",
    "    (Likelihood(), \"Likelihood\"),\n",
    "    (InverseLikelihood(), \"InverseLikelihood\"),\n",
    "    (LikelihoodShift(dataset, direction=\"positive\"), \"LikelihoodShiftPos\"),\n",
    "    (LikelihoodShift(dataset, direction=\"negative\"), \"LikelihoodShiftNeg\"),\n",
    "    (CleanLabSafe(), \"CleanLabSafe\"),\n",
    "]\n",
    "\n",
    "aggregations = [\"sum\", \"avg\"]"
   ]
  },
  {
   "cell_type": "code",
   "execution_count": 23,
   "id": "cc28b4b8",
   "metadata": {},
   "outputs": [
    {
     "name": "stdout",
     "output_type": "stream",
     "text": [
      "running fada-v2 policy search using Likelihood\n"
     ]
    },
    {
     "name": "stderr",
     "output_type": "stream",
     "text": [
      "2023-02-21 20:00:48,272 | datasets.builder | WARNING | Found cached dataset glue (C:/Users/fabri/.cache/huggingface/datasets/glue/sst2/1.0.0/dacbe3125aa31d7f70367a07a8a9e72a5a0bfeb5fc42e75c9db75b96da6053ad)\n"
     ]
    },
    {
     "name": "stdout",
     "output_type": "stream",
     "text": [
      "Using distilbert-base-uncased-finetuned-sst-2-english to support evaluation.\n"
     ]
    },
    {
     "data": {
      "application/vnd.jupyter.widget-view+json": {
       "model_id": "c5d751d724f0419cbd6a902671b68e94",
       "version_major": 2,
       "version_minor": 0
      },
      "text/plain": [
       "  0%|          | 0/2376 [00:00<?, ?it/s]"
      ]
     },
     "metadata": {},
     "output_type": "display_data"
    },
    {
     "ename": "KeyboardInterrupt",
     "evalue": "",
     "output_type": "error",
     "traceback": [
      "\u001b[1;31m---------------------------------------------------------------------------\u001b[0m",
      "\u001b[1;31mKeyboardInterrupt\u001b[0m                         Traceback (most recent call last)",
      "\u001b[1;32m~\\AppData\\Local\\Temp\\ipykernel_18836\\2182369666.py\u001b[0m in \u001b[0;36m<cell line: 4>\u001b[1;34m()\u001b[0m\n\u001b[0;32m     76\u001b[0m                           \u001b[0mbatch_size\u001b[0m\u001b[1;33m=\u001b[0m\u001b[1;36m10\u001b[0m\u001b[1;33m,\u001b[0m\u001b[1;33m\u001b[0m\u001b[1;33m\u001b[0m\u001b[0m\n\u001b[0;32m     77\u001b[0m                           keep_originals=False)\n\u001b[1;32m---> 78\u001b[1;33m             \u001b[0maug_dataset\u001b[0m \u001b[1;33m=\u001b[0m \u001b[0maugmenter\u001b[0m\u001b[1;33m.\u001b[0m\u001b[0maugment\u001b[0m\u001b[1;33m(\u001b[0m\u001b[1;33m)\u001b[0m\u001b[1;33m\u001b[0m\u001b[1;33m\u001b[0m\u001b[0m\n\u001b[0m\u001b[0;32m     79\u001b[0m \u001b[1;33m\u001b[0m\u001b[0m\n\u001b[0;32m     80\u001b[0m             \u001b[1;32mtry\u001b[0m\u001b[1;33m:\u001b[0m\u001b[1;33m\u001b[0m\u001b[1;33m\u001b[0m\u001b[0m\n",
      "\u001b[1;32m~\\AppData\\Local\\Temp\\ipykernel_18836\\4179278740.py\u001b[0m in \u001b[0;36maugment\u001b[1;34m(self)\u001b[0m\n\u001b[0;32m     90\u001b[0m \u001b[1;33m\u001b[0m\u001b[0m\n\u001b[0;32m     91\u001b[0m     \u001b[1;32mdef\u001b[0m \u001b[0maugment\u001b[0m\u001b[1;33m(\u001b[0m\u001b[0mself\u001b[0m\u001b[1;33m)\u001b[0m\u001b[1;33m:\u001b[0m\u001b[1;33m\u001b[0m\u001b[1;33m\u001b[0m\u001b[0m\n\u001b[1;32m---> 92\u001b[1;33m         \u001b[0mdataset\u001b[0m \u001b[1;33m=\u001b[0m \u001b[0mself\u001b[0m\u001b[1;33m.\u001b[0m\u001b[0mdataset\u001b[0m\u001b[1;33m.\u001b[0m\u001b[0mmap\u001b[0m\u001b[1;33m(\u001b[0m\u001b[0mself\u001b[0m\u001b[1;33m.\u001b[0m\u001b[0mapply_to_batch\u001b[0m\u001b[1;33m,\u001b[0m \u001b[0mbatched\u001b[0m\u001b[1;33m=\u001b[0m\u001b[1;32mTrue\u001b[0m\u001b[1;33m,\u001b[0m \u001b[0mbatch_size\u001b[0m\u001b[1;33m=\u001b[0m\u001b[0mself\u001b[0m\u001b[1;33m.\u001b[0m\u001b[0mbatch_size\u001b[0m\u001b[1;33m)\u001b[0m\u001b[1;33m\u001b[0m\u001b[1;33m\u001b[0m\u001b[0m\n\u001b[0m\u001b[0;32m     93\u001b[0m         \u001b[0mdataset\u001b[0m \u001b[1;33m=\u001b[0m \u001b[0mdataset\u001b[0m\u001b[1;33m.\u001b[0m\u001b[0mremove_columns\u001b[0m\u001b[1;33m(\u001b[0m\u001b[1;34m\"idx\"\u001b[0m\u001b[1;33m)\u001b[0m\u001b[1;33m\u001b[0m\u001b[1;33m\u001b[0m\u001b[0m\n\u001b[0;32m     94\u001b[0m \u001b[1;33m\u001b[0m\u001b[0m\n",
      "\u001b[1;32m~\\anaconda3\\envs\\fada\\lib\\site-packages\\datasets\\arrow_dataset.py\u001b[0m in \u001b[0;36mmap\u001b[1;34m(self, function, with_indices, with_rank, input_columns, batched, batch_size, drop_last_batch, remove_columns, keep_in_memory, load_from_cache_file, cache_file_name, writer_batch_size, features, disable_nullable, fn_kwargs, num_proc, suffix_template, new_fingerprint, desc)\u001b[0m\n\u001b[0;32m   2813\u001b[0m \u001b[1;33m\u001b[0m\u001b[0m\n\u001b[0;32m   2814\u001b[0m         \u001b[1;32mif\u001b[0m \u001b[0mnum_proc\u001b[0m \u001b[1;32mis\u001b[0m \u001b[1;32mNone\u001b[0m \u001b[1;32mor\u001b[0m \u001b[0mnum_proc\u001b[0m \u001b[1;33m==\u001b[0m \u001b[1;36m1\u001b[0m\u001b[1;33m:\u001b[0m\u001b[1;33m\u001b[0m\u001b[1;33m\u001b[0m\u001b[0m\n\u001b[1;32m-> 2815\u001b[1;33m             return self._map_single(\n\u001b[0m\u001b[0;32m   2816\u001b[0m                 \u001b[0mfunction\u001b[0m\u001b[1;33m=\u001b[0m\u001b[0mfunction\u001b[0m\u001b[1;33m,\u001b[0m\u001b[1;33m\u001b[0m\u001b[1;33m\u001b[0m\u001b[0m\n\u001b[0;32m   2817\u001b[0m                 \u001b[0mwith_indices\u001b[0m\u001b[1;33m=\u001b[0m\u001b[0mwith_indices\u001b[0m\u001b[1;33m,\u001b[0m\u001b[1;33m\u001b[0m\u001b[1;33m\u001b[0m\u001b[0m\n",
      "\u001b[1;32m~\\anaconda3\\envs\\fada\\lib\\site-packages\\datasets\\arrow_dataset.py\u001b[0m in \u001b[0;36mwrapper\u001b[1;34m(*args, **kwargs)\u001b[0m\n\u001b[0;32m    544\u001b[0m             \u001b[0mself\u001b[0m\u001b[1;33m:\u001b[0m \u001b[1;34m\"Dataset\"\u001b[0m \u001b[1;33m=\u001b[0m \u001b[0mkwargs\u001b[0m\u001b[1;33m.\u001b[0m\u001b[0mpop\u001b[0m\u001b[1;33m(\u001b[0m\u001b[1;34m\"self\"\u001b[0m\u001b[1;33m)\u001b[0m\u001b[1;33m\u001b[0m\u001b[1;33m\u001b[0m\u001b[0m\n\u001b[0;32m    545\u001b[0m         \u001b[1;31m# apply actual function\u001b[0m\u001b[1;33m\u001b[0m\u001b[1;33m\u001b[0m\u001b[1;33m\u001b[0m\u001b[0m\n\u001b[1;32m--> 546\u001b[1;33m         \u001b[0mout\u001b[0m\u001b[1;33m:\u001b[0m \u001b[0mUnion\u001b[0m\u001b[1;33m[\u001b[0m\u001b[1;34m\"Dataset\"\u001b[0m\u001b[1;33m,\u001b[0m \u001b[1;34m\"DatasetDict\"\u001b[0m\u001b[1;33m]\u001b[0m \u001b[1;33m=\u001b[0m \u001b[0mfunc\u001b[0m\u001b[1;33m(\u001b[0m\u001b[0mself\u001b[0m\u001b[1;33m,\u001b[0m \u001b[1;33m*\u001b[0m\u001b[0margs\u001b[0m\u001b[1;33m,\u001b[0m \u001b[1;33m**\u001b[0m\u001b[0mkwargs\u001b[0m\u001b[1;33m)\u001b[0m\u001b[1;33m\u001b[0m\u001b[1;33m\u001b[0m\u001b[0m\n\u001b[0m\u001b[0;32m    547\u001b[0m         \u001b[0mdatasets\u001b[0m\u001b[1;33m:\u001b[0m \u001b[0mList\u001b[0m\u001b[1;33m[\u001b[0m\u001b[1;34m\"Dataset\"\u001b[0m\u001b[1;33m]\u001b[0m \u001b[1;33m=\u001b[0m \u001b[0mlist\u001b[0m\u001b[1;33m(\u001b[0m\u001b[0mout\u001b[0m\u001b[1;33m.\u001b[0m\u001b[0mvalues\u001b[0m\u001b[1;33m(\u001b[0m\u001b[1;33m)\u001b[0m\u001b[1;33m)\u001b[0m \u001b[1;32mif\u001b[0m \u001b[0misinstance\u001b[0m\u001b[1;33m(\u001b[0m\u001b[0mout\u001b[0m\u001b[1;33m,\u001b[0m \u001b[0mdict\u001b[0m\u001b[1;33m)\u001b[0m \u001b[1;32melse\u001b[0m \u001b[1;33m[\u001b[0m\u001b[0mout\u001b[0m\u001b[1;33m]\u001b[0m\u001b[1;33m\u001b[0m\u001b[1;33m\u001b[0m\u001b[0m\n\u001b[0;32m    548\u001b[0m         \u001b[1;32mfor\u001b[0m \u001b[0mdataset\u001b[0m \u001b[1;32min\u001b[0m \u001b[0mdatasets\u001b[0m\u001b[1;33m:\u001b[0m\u001b[1;33m\u001b[0m\u001b[1;33m\u001b[0m\u001b[0m\n",
      "\u001b[1;32m~\\anaconda3\\envs\\fada\\lib\\site-packages\\datasets\\arrow_dataset.py\u001b[0m in \u001b[0;36mwrapper\u001b[1;34m(*args, **kwargs)\u001b[0m\n\u001b[0;32m    511\u001b[0m         }\n\u001b[0;32m    512\u001b[0m         \u001b[1;31m# apply actual function\u001b[0m\u001b[1;33m\u001b[0m\u001b[1;33m\u001b[0m\u001b[1;33m\u001b[0m\u001b[0m\n\u001b[1;32m--> 513\u001b[1;33m         \u001b[0mout\u001b[0m\u001b[1;33m:\u001b[0m \u001b[0mUnion\u001b[0m\u001b[1;33m[\u001b[0m\u001b[1;34m\"Dataset\"\u001b[0m\u001b[1;33m,\u001b[0m \u001b[1;34m\"DatasetDict\"\u001b[0m\u001b[1;33m]\u001b[0m \u001b[1;33m=\u001b[0m \u001b[0mfunc\u001b[0m\u001b[1;33m(\u001b[0m\u001b[0mself\u001b[0m\u001b[1;33m,\u001b[0m \u001b[1;33m*\u001b[0m\u001b[0margs\u001b[0m\u001b[1;33m,\u001b[0m \u001b[1;33m**\u001b[0m\u001b[0mkwargs\u001b[0m\u001b[1;33m)\u001b[0m\u001b[1;33m\u001b[0m\u001b[1;33m\u001b[0m\u001b[0m\n\u001b[0m\u001b[0;32m    514\u001b[0m         \u001b[0mdatasets\u001b[0m\u001b[1;33m:\u001b[0m \u001b[0mList\u001b[0m\u001b[1;33m[\u001b[0m\u001b[1;34m\"Dataset\"\u001b[0m\u001b[1;33m]\u001b[0m \u001b[1;33m=\u001b[0m \u001b[0mlist\u001b[0m\u001b[1;33m(\u001b[0m\u001b[0mout\u001b[0m\u001b[1;33m.\u001b[0m\u001b[0mvalues\u001b[0m\u001b[1;33m(\u001b[0m\u001b[1;33m)\u001b[0m\u001b[1;33m)\u001b[0m \u001b[1;32mif\u001b[0m \u001b[0misinstance\u001b[0m\u001b[1;33m(\u001b[0m\u001b[0mout\u001b[0m\u001b[1;33m,\u001b[0m \u001b[0mdict\u001b[0m\u001b[1;33m)\u001b[0m \u001b[1;32melse\u001b[0m \u001b[1;33m[\u001b[0m\u001b[0mout\u001b[0m\u001b[1;33m]\u001b[0m\u001b[1;33m\u001b[0m\u001b[1;33m\u001b[0m\u001b[0m\n\u001b[0;32m    515\u001b[0m         \u001b[1;31m# re-apply format to the output\u001b[0m\u001b[1;33m\u001b[0m\u001b[1;33m\u001b[0m\u001b[1;33m\u001b[0m\u001b[0m\n",
      "\u001b[1;32m~\\anaconda3\\envs\\fada\\lib\\site-packages\\datasets\\fingerprint.py\u001b[0m in \u001b[0;36mwrapper\u001b[1;34m(*args, **kwargs)\u001b[0m\n\u001b[0;32m    470\u001b[0m                     \u001b[1;32mif\u001b[0m \u001b[0mkwargs\u001b[0m\u001b[1;33m.\u001b[0m\u001b[0mget\u001b[0m\u001b[1;33m(\u001b[0m\u001b[0mfingerprint_name\u001b[0m\u001b[1;33m)\u001b[0m \u001b[1;32mis\u001b[0m \u001b[1;32mNone\u001b[0m\u001b[1;33m:\u001b[0m\u001b[1;33m\u001b[0m\u001b[1;33m\u001b[0m\u001b[0m\n\u001b[0;32m    471\u001b[0m                         \u001b[0mkwargs_for_fingerprint\u001b[0m\u001b[1;33m[\u001b[0m\u001b[1;34m\"fingerprint_name\"\u001b[0m\u001b[1;33m]\u001b[0m \u001b[1;33m=\u001b[0m \u001b[0mfingerprint_name\u001b[0m\u001b[1;33m\u001b[0m\u001b[1;33m\u001b[0m\u001b[0m\n\u001b[1;32m--> 472\u001b[1;33m                         kwargs[fingerprint_name] = update_fingerprint(\n\u001b[0m\u001b[0;32m    473\u001b[0m                             \u001b[0mself\u001b[0m\u001b[1;33m.\u001b[0m\u001b[0m_fingerprint\u001b[0m\u001b[1;33m,\u001b[0m \u001b[0mtransform\u001b[0m\u001b[1;33m,\u001b[0m \u001b[0mkwargs_for_fingerprint\u001b[0m\u001b[1;33m\u001b[0m\u001b[1;33m\u001b[0m\u001b[0m\n\u001b[0;32m    474\u001b[0m                         )\n",
      "\u001b[1;31mKeyboardInterrupt\u001b[0m: "
     ]
    }
   ],
   "source": [
    "dataset_config = (\"glue\", \"sst2\")\n",
    "task_name = \"sentiment\"\n",
    "\n",
    "for agg in aggregations:\n",
    "    for scorer, scorer_name in scorers:\n",
    "\n",
    "        print(f\"running fada-v2 policy search using {scorer_name}-{agg}\")\n",
    "\n",
    "        dataset = load_dataset(*dataset_config, split=\"train\")\n",
    "        dataset = dataset.rename_column(\"sentence\", \"text\")\n",
    "\n",
    "        # initialize extractors\n",
    "        feature_extractor = AMRFeatureExtractor()\n",
    "        perf_extractor = PerformanceExtractor(dataset.builder_name, Likelihood())\n",
    "\n",
    "        # initialize dataset + annotations\n",
    "        if os.path.exists(\"./datasets/glue.sst2.annotated\"):\n",
    "            dataset = load_from_disk(\"./datasets/glue.sst2.annotated\")\n",
    "            features = np.array(dataset[\"features\"])\n",
    "        else:\n",
    "            features = feature_extractor(dataset[\"text\"])\n",
    "            preds = perf_extractor.extract_prediction_probabilities(dataset[\"text\"])\n",
    "            dataset = dataset.add_column(\"features\", [f for f in features])\n",
    "            dataset = dataset.add_column(\"preds\", [p.numpy() for p in preds])\n",
    "            dataset.save_to_disk(\"./datasets/glue.sst2.annotated\")\n",
    "\n",
    "        # initialize save directory\n",
    "        save_dir       = f\"./fadata/nlaug/v2-{scorer_name}-{agg}/\"\n",
    "        os.makedirs(save_dir, exist_ok=True)\n",
    "\n",
    "        # initialize fadata arrays\n",
    "        num_rows       = len(dataset)\n",
    "        num_transforms = len(transforms)\n",
    "        num_features   = len(feature_extractor.featurizers)\n",
    "\n",
    "        performances   = np.zeros((num_transforms, num_features))\n",
    "        counts         = np.zeros((num_transforms, num_features))\n",
    "        changes        = np.zeros((num_transforms, num_features))\n",
    "        policy         = np.full((num_transforms, num_features), fill_value=1/num_transforms)\n",
    "\n",
    "        min_coverage = 128\n",
    "        num_to_transform_per_step = 32\n",
    "\n",
    "        policy_difference = np.inf\n",
    "        convergence_threshold = 1 / (num_transforms + num_features)\n",
    "\n",
    "        # run fada-v2 convergence loop\n",
    "\n",
    "        i = 0\n",
    "        while policy_difference > convergence_threshold:\n",
    "\n",
    "            # find low coverage (t,f) pairs\n",
    "            ts, fs   = np.where(changes < min_coverage)\n",
    "            tf_pairs = list(zip(ts, fs))\n",
    "\n",
    "            for t, f in tqdm(tf_pairs):\n",
    "\n",
    "                f_candidates  = np.where(features[:,f] == 1)[0]\n",
    "\n",
    "                # feature missing in dataset\n",
    "                if not f_candidates.size:\n",
    "                    continue\n",
    "\n",
    "                num_to_sample = num_to_transform_per_step if len(f_candidates) > num_to_transform_per_step else len(f_candidates)\n",
    "                f_indices     = np.random.choice(f_candidates, num_to_sample, replace=False)\n",
    "                f_dataset     = dataset.select(f_indices)\n",
    "\n",
    "                t_prob = np.zeros(num_transforms)\n",
    "                t_prob[t] = 1\n",
    "                transform_probabilities = np.array([t_prob for _ in range(f_dataset.num_rows)])\n",
    "\n",
    "                augmenter = Augmenter(dataset=f_dataset, \n",
    "                              transforms=transforms,  \n",
    "                              transform_probabilities=transform_probabilities,\n",
    "                              num_augmentations_per_record=1,\n",
    "                              num_transforms_to_apply=1,\n",
    "                              batch_size=10, \n",
    "                              keep_originals=False)\n",
    "                aug_dataset = augmenter.augment()\n",
    "\n",
    "                try:\n",
    "                    performance = perf_extractor(aug_dataset[\"text\"], aug_dataset[\"label\"], indices=f_indices)\n",
    "                except Exception as e:\n",
    "                    print(e)\n",
    "                    performance = [1] * f_dataset.num_rows\n",
    "                aug_dataset = aug_dataset.add_column(\"performance\", [p for p in performance])\n",
    "\n",
    "                performance = np.array(aug_dataset[\"performance\"]).sum()\n",
    "                num_changes = np.array(aug_dataset[\"is_changed\"]).sum()\n",
    "\n",
    "                counts[t,f]       += f_dataset.num_rows\n",
    "                changes[t,f]      += num_changes  \n",
    "                performances[t,f] += performance   \n",
    "\n",
    "            # compute augmentation policy\n",
    "            if agg == \"sum\":\n",
    "                aggregated_performance = performances \n",
    "            elif agg == \"avg\":\n",
    "                aggregated_performance = np.nan_to_num(performances / counts, 0)\n",
    "            applicability_rate         = np.nan_to_num(changes / counts, 0)\n",
    "            new_policy                 = softmax(aggregated_performance * applicability_rate, axis=0)\n",
    "\n",
    "            policy_difference          = np.linalg.norm(new_policy - policy)\n",
    "            policy                     = new_policy\n",
    "\n",
    "            print(f\"policy_difference: {policy_difference} (convergence_threshold: {convergence_threshold})\")\n",
    "\n",
    "            policy_heatmap(policy, transforms, feature_extractor.featurizers)\n",
    "\n",
    "            print(\"Saving intermediate matrices...\")\n",
    "            np.save(os.path.join(save_dir, f\"glue.sst2.fada.v2.counts-step-{i}\"), counts)\n",
    "            np.save(os.path.join(save_dir, f\"glue.sst2.fada.v2.changes-step-{i}\"), changes)\n",
    "            np.save(os.path.join(save_dir, f\"glue.sst2.fada.v2.performances-step-{i}\"), performances)\n",
    "            np.save(os.path.join(save_dir, f\"glue.sst2.fada.v2.policy-step-{i}\"), policy)\n",
    "\n",
    "            i += 1\n",
    "\n",
    "        # augment original dataset with newly converged policy\n",
    "        dataset = load_dataset(*dataset_config, split=\"train\")\n",
    "        dataset = dataset.rename_column(\"sentence\", \"text\")\n",
    "\n",
    "        policy_probabilities = implement_policy_probabilities(policy, features)\n",
    "\n",
    "        augmenter = Augmenter(dataset=dataset, \n",
    "                              transforms=transforms, \n",
    "                              transform_probabilities=policy_probabilities, \n",
    "                              num_augmentations_per_record=1,\n",
    "                              num_transforms_to_apply=1,\n",
    "                              keep_originals=True)\n",
    "        aug_dataset = augmenter.augment()\n",
    "        aug_dataset.save_to_disk(f\"./datasets/glue.sst2.nlaug.fada_v2_{scorer_name}_{agg}\")"
   ]
  },
  {
   "cell_type": "code",
   "execution_count": null,
   "id": "fced7fe4",
   "metadata": {},
   "outputs": [],
   "source": []
  }
 ],
 "metadata": {
  "kernelspec": {
   "display_name": "Python 3 (ipykernel)",
   "language": "python",
   "name": "python3"
  },
  "language_info": {
   "codemirror_mode": {
    "name": "ipython",
    "version": 3
   },
   "file_extension": ".py",
   "mimetype": "text/x-python",
   "name": "python",
   "nbconvert_exporter": "python",
   "pygments_lexer": "ipython3",
   "version": "3.8.10"
  }
 },
 "nbformat": 4,
 "nbformat_minor": 5
}
